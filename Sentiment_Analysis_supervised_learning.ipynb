{
  "nbformat": 4,
  "nbformat_minor": 0,
  "metadata": {
    "colab": {
      "provenance": []
    },
    "kernelspec": {
      "name": "python3",
      "display_name": "Python 3"
    },
    "language_info": {
      "name": "python"
    }
  },
  "cells": [
    {
      "cell_type": "markdown",
      "metadata": {
        "id": "clVw-ixeen4f"
      },
      "source": [
        "**1. Install Pre-requisite libraries**"
      ]
    },
    {
      "cell_type": "code",
      "metadata": {
        "colab": {
          "base_uri": "https://localhost:8080/"
        },
        "id": "shX8nVXsRMel",
        "outputId": "4da27351-e853-47fb-d6aa-b53e4715bd79"
      },
      "source": [
        "pip install tweet-preprocessor"
      ],
      "execution_count": 1,
      "outputs": [
        {
          "output_type": "stream",
          "name": "stdout",
          "text": [
            "Collecting tweet-preprocessor\n",
            "  Downloading tweet_preprocessor-0.6.0-py3-none-any.whl (27 kB)\n",
            "Installing collected packages: tweet-preprocessor\n",
            "Successfully installed tweet-preprocessor-0.6.0\n"
          ]
        }
      ]
    },
    {
      "cell_type": "markdown",
      "metadata": {
        "id": "QBNBpDH1e08-"
      },
      "source": [
        "**2. Import the necessary packages**"
      ]
    },
    {
      "cell_type": "code",
      "metadata": {
        "id": "dmp6t6yoXWXT"
      },
      "source": [
        "import pandas as pd\n",
        "from sklearn.feature_extraction.text import CountVectorizer, TfidfVectorizer\n",
        "import numpy as np\n",
        "import pickle\n",
        "import spacy\n",
        "import preprocessor as p\n",
        "from sklearn.model_selection import train_test_split\n",
        "from sklearn.linear_model import LogisticRegression\n",
        "from sklearn.ensemble import RandomForestClassifier\n",
        "import random\n",
        "import matplotlib.pyplot as plt\n",
        "import seaborn as sns\n",
        "from sklearn.metrics import accuracy_score\n",
        "from sklearn.metrics import confusion_matrix\n",
        "from google.colab import drive\n",
        "from sklearn.pipeline import make_pipeline\n",
        "from sklearn.preprocessing import StandardScaler\n",
        "from sklearn.svm import LinearSVC\n",
        "from sklearn.model_selection import KFold\n",
        "n_gram_max = 1\n",
        "n_gram_min = 1\n"
      ],
      "execution_count": 2,
      "outputs": []
    },
    {
      "cell_type": "markdown",
      "metadata": {
        "id": "7sD83X5Te9Iw"
      },
      "source": [
        "**3. Mount google drive, read dataset CSV file and print the top 10 rows of dataset.**\n",
        "\n",
        "**Note: In my case i uploaded the dataset (*training.1.6.processed.csv*) already on Google Drive in the google colab folder**"
      ]
    },
    {
      "cell_type": "code",
      "metadata": {
        "colab": {
          "base_uri": "https://localhost:8080/",
          "height": 470
        },
        "id": "VrNdUTaUCR6M",
        "outputId": "df9b0c12-d506-4cb5-f72f-c1999f076868"
      },
      "source": [
        "# Mount again if it is needed in case\n",
        "pd.set_option('display.max_columns', None)\n",
        "drive.mount('/content/gdrive', force_remount= True)\n",
        "df = pd.read_csv('/content/gdrive/MyDrive/Colab Notebooks/datasets/training.1.6.noemoticon.csv', encoding='latin1')\n",
        "print(\"Shape of df:\",df.shape)\n",
        "print(\"Counts:\\n\",df.target.value_counts())\n",
        "df.head(10)"
      ],
      "execution_count": 4,
      "outputs": [
        {
          "output_type": "stream",
          "name": "stdout",
          "text": [
            "Mounted at /content/gdrive\n",
            "Shape of df: (1599999, 6)\n",
            "Counts:\n",
            " 4    800000\n",
            "0    799999\n",
            "Name: target, dtype: int64\n"
          ]
        },
        {
          "output_type": "execute_result",
          "data": {
            "text/plain": [
              "   target          id                          date      flag  \\\n",
              "0       0  1467810672  Mon Apr 06 22:19:49 PDT 2009  NO_QUERY   \n",
              "1       0  1467810917  Mon Apr 06 22:19:53 PDT 2009  NO_QUERY   \n",
              "2       0  1467811184  Mon Apr 06 22:19:57 PDT 2009  NO_QUERY   \n",
              "3       0  1467811193  Mon Apr 06 22:19:57 PDT 2009  NO_QUERY   \n",
              "4       0  1467811372  Mon Apr 06 22:20:00 PDT 2009  NO_QUERY   \n",
              "5       0  1467811592  Mon Apr 06 22:20:03 PDT 2009  NO_QUERY   \n",
              "6       0  1467811594  Mon Apr 06 22:20:03 PDT 2009  NO_QUERY   \n",
              "7       0  1467811795  Mon Apr 06 22:20:05 PDT 2009  NO_QUERY   \n",
              "8       0  1467812025  Mon Apr 06 22:20:09 PDT 2009  NO_QUERY   \n",
              "9       0  1467812416  Mon Apr 06 22:20:16 PDT 2009  NO_QUERY   \n",
              "\n",
              "              user                                               text  \n",
              "0    scotthamilton  is upset that he can't update his Facebook by ...  \n",
              "1         mattycus  @Kenichan I dived many times for the ball. Man...  \n",
              "2          ElleCTF    my whole body feels itchy and like its on fire   \n",
              "3           Karoli  @nationwideclass no, it's not behaving at all....  \n",
              "4         joy_wolf                      @Kwesidei not the whole crew   \n",
              "5          mybirch                                        Need a hug   \n",
              "6             coZZ  @LOLTrish hey  long time no see! Yes.. Rains a...  \n",
              "7  2Hood4Hollywood               @Tatiana_K nope they didn't have it   \n",
              "8          mimismo                          @twittera que me muera ?   \n",
              "9   erinx3leannexo        spring break in plain city... it's snowing   "
            ],
            "text/html": [
              "\n",
              "\n",
              "  <div id=\"df-c31adb68-6a96-408b-87a8-de9dc68d4eb8\">\n",
              "    <div class=\"colab-df-container\">\n",
              "      <div>\n",
              "<style scoped>\n",
              "    .dataframe tbody tr th:only-of-type {\n",
              "        vertical-align: middle;\n",
              "    }\n",
              "\n",
              "    .dataframe tbody tr th {\n",
              "        vertical-align: top;\n",
              "    }\n",
              "\n",
              "    .dataframe thead th {\n",
              "        text-align: right;\n",
              "    }\n",
              "</style>\n",
              "<table border=\"1\" class=\"dataframe\">\n",
              "  <thead>\n",
              "    <tr style=\"text-align: right;\">\n",
              "      <th></th>\n",
              "      <th>target</th>\n",
              "      <th>id</th>\n",
              "      <th>date</th>\n",
              "      <th>flag</th>\n",
              "      <th>user</th>\n",
              "      <th>text</th>\n",
              "    </tr>\n",
              "  </thead>\n",
              "  <tbody>\n",
              "    <tr>\n",
              "      <th>0</th>\n",
              "      <td>0</td>\n",
              "      <td>1467810672</td>\n",
              "      <td>Mon Apr 06 22:19:49 PDT 2009</td>\n",
              "      <td>NO_QUERY</td>\n",
              "      <td>scotthamilton</td>\n",
              "      <td>is upset that he can't update his Facebook by ...</td>\n",
              "    </tr>\n",
              "    <tr>\n",
              "      <th>1</th>\n",
              "      <td>0</td>\n",
              "      <td>1467810917</td>\n",
              "      <td>Mon Apr 06 22:19:53 PDT 2009</td>\n",
              "      <td>NO_QUERY</td>\n",
              "      <td>mattycus</td>\n",
              "      <td>@Kenichan I dived many times for the ball. Man...</td>\n",
              "    </tr>\n",
              "    <tr>\n",
              "      <th>2</th>\n",
              "      <td>0</td>\n",
              "      <td>1467811184</td>\n",
              "      <td>Mon Apr 06 22:19:57 PDT 2009</td>\n",
              "      <td>NO_QUERY</td>\n",
              "      <td>ElleCTF</td>\n",
              "      <td>my whole body feels itchy and like its on fire</td>\n",
              "    </tr>\n",
              "    <tr>\n",
              "      <th>3</th>\n",
              "      <td>0</td>\n",
              "      <td>1467811193</td>\n",
              "      <td>Mon Apr 06 22:19:57 PDT 2009</td>\n",
              "      <td>NO_QUERY</td>\n",
              "      <td>Karoli</td>\n",
              "      <td>@nationwideclass no, it's not behaving at all....</td>\n",
              "    </tr>\n",
              "    <tr>\n",
              "      <th>4</th>\n",
              "      <td>0</td>\n",
              "      <td>1467811372</td>\n",
              "      <td>Mon Apr 06 22:20:00 PDT 2009</td>\n",
              "      <td>NO_QUERY</td>\n",
              "      <td>joy_wolf</td>\n",
              "      <td>@Kwesidei not the whole crew</td>\n",
              "    </tr>\n",
              "    <tr>\n",
              "      <th>5</th>\n",
              "      <td>0</td>\n",
              "      <td>1467811592</td>\n",
              "      <td>Mon Apr 06 22:20:03 PDT 2009</td>\n",
              "      <td>NO_QUERY</td>\n",
              "      <td>mybirch</td>\n",
              "      <td>Need a hug</td>\n",
              "    </tr>\n",
              "    <tr>\n",
              "      <th>6</th>\n",
              "      <td>0</td>\n",
              "      <td>1467811594</td>\n",
              "      <td>Mon Apr 06 22:20:03 PDT 2009</td>\n",
              "      <td>NO_QUERY</td>\n",
              "      <td>coZZ</td>\n",
              "      <td>@LOLTrish hey  long time no see! Yes.. Rains a...</td>\n",
              "    </tr>\n",
              "    <tr>\n",
              "      <th>7</th>\n",
              "      <td>0</td>\n",
              "      <td>1467811795</td>\n",
              "      <td>Mon Apr 06 22:20:05 PDT 2009</td>\n",
              "      <td>NO_QUERY</td>\n",
              "      <td>2Hood4Hollywood</td>\n",
              "      <td>@Tatiana_K nope they didn't have it</td>\n",
              "    </tr>\n",
              "    <tr>\n",
              "      <th>8</th>\n",
              "      <td>0</td>\n",
              "      <td>1467812025</td>\n",
              "      <td>Mon Apr 06 22:20:09 PDT 2009</td>\n",
              "      <td>NO_QUERY</td>\n",
              "      <td>mimismo</td>\n",
              "      <td>@twittera que me muera ?</td>\n",
              "    </tr>\n",
              "    <tr>\n",
              "      <th>9</th>\n",
              "      <td>0</td>\n",
              "      <td>1467812416</td>\n",
              "      <td>Mon Apr 06 22:20:16 PDT 2009</td>\n",
              "      <td>NO_QUERY</td>\n",
              "      <td>erinx3leannexo</td>\n",
              "      <td>spring break in plain city... it's snowing</td>\n",
              "    </tr>\n",
              "  </tbody>\n",
              "</table>\n",
              "</div>\n",
              "      <button class=\"colab-df-convert\" onclick=\"convertToInteractive('df-c31adb68-6a96-408b-87a8-de9dc68d4eb8')\"\n",
              "              title=\"Convert this dataframe to an interactive table.\"\n",
              "              style=\"display:none;\">\n",
              "\n",
              "  <svg xmlns=\"http://www.w3.org/2000/svg\" height=\"24px\"viewBox=\"0 0 24 24\"\n",
              "       width=\"24px\">\n",
              "    <path d=\"M0 0h24v24H0V0z\" fill=\"none\"/>\n",
              "    <path d=\"M18.56 5.44l.94 2.06.94-2.06 2.06-.94-2.06-.94-.94-2.06-.94 2.06-2.06.94zm-11 1L8.5 8.5l.94-2.06 2.06-.94-2.06-.94L8.5 2.5l-.94 2.06-2.06.94zm10 10l.94 2.06.94-2.06 2.06-.94-2.06-.94-.94-2.06-.94 2.06-2.06.94z\"/><path d=\"M17.41 7.96l-1.37-1.37c-.4-.4-.92-.59-1.43-.59-.52 0-1.04.2-1.43.59L10.3 9.45l-7.72 7.72c-.78.78-.78 2.05 0 2.83L4 21.41c.39.39.9.59 1.41.59.51 0 1.02-.2 1.41-.59l7.78-7.78 2.81-2.81c.8-.78.8-2.07 0-2.86zM5.41 20L4 18.59l7.72-7.72 1.47 1.35L5.41 20z\"/>\n",
              "  </svg>\n",
              "      </button>\n",
              "\n",
              "\n",
              "\n",
              "    <div id=\"df-8dbab8c1-915d-480c-be69-fa351b8fad41\">\n",
              "      <button class=\"colab-df-quickchart\" onclick=\"quickchart('df-8dbab8c1-915d-480c-be69-fa351b8fad41')\"\n",
              "              title=\"Suggest charts.\"\n",
              "              style=\"display:none;\">\n",
              "\n",
              "<svg xmlns=\"http://www.w3.org/2000/svg\" height=\"24px\"viewBox=\"0 0 24 24\"\n",
              "     width=\"24px\">\n",
              "    <g>\n",
              "        <path d=\"M19 3H5c-1.1 0-2 .9-2 2v14c0 1.1.9 2 2 2h14c1.1 0 2-.9 2-2V5c0-1.1-.9-2-2-2zM9 17H7v-7h2v7zm4 0h-2V7h2v10zm4 0h-2v-4h2v4z\"/>\n",
              "    </g>\n",
              "</svg>\n",
              "      </button>\n",
              "    </div>\n",
              "\n",
              "<style>\n",
              "  .colab-df-quickchart {\n",
              "    background-color: #E8F0FE;\n",
              "    border: none;\n",
              "    border-radius: 50%;\n",
              "    cursor: pointer;\n",
              "    display: none;\n",
              "    fill: #1967D2;\n",
              "    height: 32px;\n",
              "    padding: 0 0 0 0;\n",
              "    width: 32px;\n",
              "  }\n",
              "\n",
              "  .colab-df-quickchart:hover {\n",
              "    background-color: #E2EBFA;\n",
              "    box-shadow: 0px 1px 2px rgba(60, 64, 67, 0.3), 0px 1px 3px 1px rgba(60, 64, 67, 0.15);\n",
              "    fill: #174EA6;\n",
              "  }\n",
              "\n",
              "  [theme=dark] .colab-df-quickchart {\n",
              "    background-color: #3B4455;\n",
              "    fill: #D2E3FC;\n",
              "  }\n",
              "\n",
              "  [theme=dark] .colab-df-quickchart:hover {\n",
              "    background-color: #434B5C;\n",
              "    box-shadow: 0px 1px 3px 1px rgba(0, 0, 0, 0.15);\n",
              "    filter: drop-shadow(0px 1px 2px rgba(0, 0, 0, 0.3));\n",
              "    fill: #FFFFFF;\n",
              "  }\n",
              "</style>\n",
              "\n",
              "    <script>\n",
              "      async function quickchart(key) {\n",
              "        const containerElement = document.querySelector('#' + key);\n",
              "        const charts = await google.colab.kernel.invokeFunction(\n",
              "            'suggestCharts', [key], {});\n",
              "      }\n",
              "    </script>\n",
              "\n",
              "      <script>\n",
              "\n",
              "function displayQuickchartButton(domScope) {\n",
              "  let quickchartButtonEl =\n",
              "    domScope.querySelector('#df-8dbab8c1-915d-480c-be69-fa351b8fad41 button.colab-df-quickchart');\n",
              "  quickchartButtonEl.style.display =\n",
              "    google.colab.kernel.accessAllowed ? 'block' : 'none';\n",
              "}\n",
              "\n",
              "        displayQuickchartButton(document);\n",
              "      </script>\n",
              "      <style>\n",
              "    .colab-df-container {\n",
              "      display:flex;\n",
              "      flex-wrap:wrap;\n",
              "      gap: 12px;\n",
              "    }\n",
              "\n",
              "    .colab-df-convert {\n",
              "      background-color: #E8F0FE;\n",
              "      border: none;\n",
              "      border-radius: 50%;\n",
              "      cursor: pointer;\n",
              "      display: none;\n",
              "      fill: #1967D2;\n",
              "      height: 32px;\n",
              "      padding: 0 0 0 0;\n",
              "      width: 32px;\n",
              "    }\n",
              "\n",
              "    .colab-df-convert:hover {\n",
              "      background-color: #E2EBFA;\n",
              "      box-shadow: 0px 1px 2px rgba(60, 64, 67, 0.3), 0px 1px 3px 1px rgba(60, 64, 67, 0.15);\n",
              "      fill: #174EA6;\n",
              "    }\n",
              "\n",
              "    [theme=dark] .colab-df-convert {\n",
              "      background-color: #3B4455;\n",
              "      fill: #D2E3FC;\n",
              "    }\n",
              "\n",
              "    [theme=dark] .colab-df-convert:hover {\n",
              "      background-color: #434B5C;\n",
              "      box-shadow: 0px 1px 3px 1px rgba(0, 0, 0, 0.15);\n",
              "      filter: drop-shadow(0px 1px 2px rgba(0, 0, 0, 0.3));\n",
              "      fill: #FFFFFF;\n",
              "    }\n",
              "  </style>\n",
              "\n",
              "      <script>\n",
              "        const buttonEl =\n",
              "          document.querySelector('#df-c31adb68-6a96-408b-87a8-de9dc68d4eb8 button.colab-df-convert');\n",
              "        buttonEl.style.display =\n",
              "          google.colab.kernel.accessAllowed ? 'block' : 'none';\n",
              "\n",
              "        async function convertToInteractive(key) {\n",
              "          const element = document.querySelector('#df-c31adb68-6a96-408b-87a8-de9dc68d4eb8');\n",
              "          const dataTable =\n",
              "            await google.colab.kernel.invokeFunction('convertToInteractive',\n",
              "                                                     [key], {});\n",
              "          if (!dataTable) return;\n",
              "\n",
              "          const docLinkHtml = 'Like what you see? Visit the ' +\n",
              "            '<a target=\"_blank\" href=https://colab.research.google.com/notebooks/data_table.ipynb>data table notebook</a>'\n",
              "            + ' to learn more about interactive tables.';\n",
              "          element.innerHTML = '';\n",
              "          dataTable['output_type'] = 'display_data';\n",
              "          await google.colab.output.renderOutput(dataTable, element);\n",
              "          const docLink = document.createElement('div');\n",
              "          docLink.innerHTML = docLinkHtml;\n",
              "          element.appendChild(docLink);\n",
              "        }\n",
              "      </script>\n",
              "    </div>\n",
              "  </div>\n"
            ]
          },
          "metadata": {},
          "execution_count": 4
        }
      ]
    },
    {
      "cell_type": "markdown",
      "metadata": {
        "id": "yS5k9m-6bfFv"
      },
      "source": [
        "**3.1. Plot the dataset**"
      ]
    },
    {
      "cell_type": "code",
      "metadata": {
        "colab": {
          "base_uri": "https://localhost:8080/",
          "height": 390
        },
        "id": "9WlvJ0LwbiOe",
        "outputId": "97a57b55-c904-4b3e-801b-e8ed9b7d4e43"
      },
      "source": [
        "counts = df.target.value_counts()\n",
        "fig = plt.figure()\n",
        "ax = fig.add_axes([0,0,0.6,0.6])\n",
        "values = [counts[4], counts[0]]\n",
        "plt.xlabel('Class')\n",
        "plt.ylabel('No. of Tweets')\n",
        "keys = ['Positive', 'Negative']\n",
        "ax.set_title('Training Dataset')\n",
        "axis = ax.bar(keys,values)\n",
        "axis[0].set_color('#088F8F')\n",
        "axis[1].set_color('#DE3163')\n",
        "plt.show()"
      ],
      "execution_count": 52,
      "outputs": [
        {
          "output_type": "display_data",
          "data": {
            "text/plain": [
              "<Figure size 640x480 with 1 Axes>"
            ],
            "image/png": "[encoded data removed]"
          },
          "metadata": {}
        }
      ]
    },
    {
      "cell_type": "markdown",
      "metadata": {
        "id": "ZNbTXgcWVxEc"
      },
      "source": [
        "**3.2. Plot histogram of labelled data**"
      ]
    },
    {
      "cell_type": "code",
      "metadata": {
        "colab": {
          "base_uri": "https://localhost:8080/",
          "height": 881
        },
        "id": "Ax5xqvdCVo7P",
        "outputId": "4de933ad-8c78-49cd-920f-e21d0baef4bc"
      },
      "source": [
        "plt.hist(df[df['target']==4].text.str.len(),bins=20,label='Positive')\n",
        "plt.legend()\n",
        "plt.xlabel('length of tweets')\n",
        "plt.ylabel('number of tweets')\n",
        "plt.show()\n",
        "plt.hist(df[df['target']==0].text.str.len(),color='yellow',bins=20,label='Negative')\n",
        "plt.legend()\n",
        "plt.xlabel('length of tweets')\n",
        "plt.ylabel('number of tweets')\n",
        "plt.show()"
      ],
      "execution_count": 53,
      "outputs": [
        {
          "output_type": "display_data",
          "data": {
            "text/plain": [
              "<Figure size 640x480 with 1 Axes>"
            ],
            "image/png": "[encoded data removed]"
          },
          "metadata": {}
        },
        {
          "output_type": "display_data",
          "data": {
            "text/plain": [
              "<Figure size 640x480 with 1 Axes>"
            ],
            "image/png": "[encoded data removed]"
          },
          "metadata": {}
        }
      ]
    },
    {
      "cell_type": "markdown",
      "metadata": {
        "id": "jj0g4yFigDmb"
      },
      "source": [
        "**4. Print the unique sentiment(targets column) in the datset**"
      ]
    },
    {
      "cell_type": "code",
      "metadata": {
        "id": "I0qFW13SemjH",
        "colab": {
          "base_uri": "https://localhost:8080/"
        },
        "outputId": "ea7fc3e2-254b-4906-edba-7cc6a05026b1"
      },
      "source": [
        "df['target'].unique()"
      ],
      "execution_count": null,
      "outputs": [
        {
          "output_type": "execute_result",
          "data": {
            "text/plain": [
              "array([0, 4])"
            ]
          },
          "metadata": {},
          "execution_count": 121
        }
      ]
    },
    {
      "cell_type": "markdown",
      "metadata": {
        "id": "Lxn7tCsRgTC2"
      },
      "source": [
        "**5. Method for pre-processing of text**"
      ]
    },
    {
      "cell_type": "code",
      "metadata": {
        "id": "_1NcfKBUoY1h"
      },
      "source": [
        "def preprocessing(text):\n",
        "    final = \"\".join(u for u in text if u not in (\"?\", \".\", \";\", \":\",  \"!\",'\"'))\n",
        "    final = p.clean(final)\n",
        "    final = str.lower(final)\n",
        "    return final"
      ],
      "execution_count": null,
      "outputs": []
    },
    {
      "cell_type": "markdown",
      "metadata": {
        "id": "Fyj7-relgace"
      },
      "source": [
        "**6. Clean the text using Tweet-Preprocess Library and clean punctuations too**"
      ]
    },
    {
      "cell_type": "code",
      "metadata": {
        "id": "VxkLwiFtnMdM",
        "colab": {
          "base_uri": "https://localhost:8080/"
        },
        "outputId": "fc4e5577-5e04-4fee-93fc-2faca563c692"
      },
      "source": [
        "#df['text'] = df['text'].apply(p.clean)\n",
        "#df['text'] = df['text'].apply(remove_punctuation)\n",
        "#df['text'] = df['text'].apply(str.lower)\n",
        "df['text'] = df['text'].apply(preprocessing)\n",
        "\n",
        "df['text']"
      ],
      "execution_count": null,
      "outputs": [
        {
          "output_type": "execute_result",
          "data": {
            "text/plain": [
              "0          is upset that he can't update his facebook by ...\n",
              "1          i dived many times for the ball managed to sav...\n",
              "2             my whole body feels itchy and like its on fire\n",
              "3          no, it's not behaving at all i'm mad why am i ...\n",
              "4                                         not the whole crew\n",
              "                                 ...                        \n",
              "1599994    just woke up having no school is the best feel...\n",
              "1599995    thewdbcom - very cool to hear old walt intervi...\n",
              "1599996    are you ready for your mojo makeover ask me fo...\n",
              "1599997    happy th birthday to my boo of alll time tupac...\n",
              "1599998                                                happy\n",
              "Name: text, Length: 1599999, dtype: object"
            ]
          },
          "metadata": {},
          "execution_count": 123
        }
      ]
    },
    {
      "cell_type": "markdown",
      "metadata": {
        "id": "XK_KgBGYgrdW"
      },
      "source": [
        "**7. Create a new dataframe including two columns(text -> Cleaned text), (target -> sentiment score). Print it**"
      ]
    },
    {
      "cell_type": "code",
      "metadata": {
        "colab": {
          "base_uri": "https://localhost:8080/",
          "height": 204
        },
        "id": "YWy-uXJJqA2w",
        "outputId": "28f3a5c8-8804-4fc0-bba5-7bc7e814bcc0"
      },
      "source": [
        "dfNew = df[['target','text']]\n",
        "dfNew.head()"
      ],
      "execution_count": null,
      "outputs": [
        {
          "output_type": "execute_result",
          "data": {
            "text/html": [
              "<div>\n",
              "<style scoped>\n",
              "    .dataframe tbody tr th:only-of-type {\n",
              "        vertical-align: middle;\n",
              "    }\n",
              "\n",
              "    .dataframe tbody tr th {\n",
              "        vertical-align: top;\n",
              "    }\n",
              "\n",
              "    .dataframe thead th {\n",
              "        text-align: right;\n",
              "    }\n",
              "</style>\n",
              "<table border=\"1\" class=\"dataframe\">\n",
              "  <thead>\n",
              "    <tr style=\"text-align: right;\">\n",
              "      <th></th>\n",
              "      <th>target</th>\n",
              "      <th>text</th>\n",
              "    </tr>\n",
              "  </thead>\n",
              "  <tbody>\n",
              "    <tr>\n",
              "      <th>0</th>\n",
              "      <td>0</td>\n",
              "      <td>is upset that he can't update his facebook by ...</td>\n",
              "    </tr>\n",
              "    <tr>\n",
              "      <th>1</th>\n",
              "      <td>0</td>\n",
              "      <td>i dived many times for the ball managed to sav...</td>\n",
              "    </tr>\n",
              "    <tr>\n",
              "      <th>2</th>\n",
              "      <td>0</td>\n",
              "      <td>my whole body feels itchy and like its on fire</td>\n",
              "    </tr>\n",
              "    <tr>\n",
              "      <th>3</th>\n",
              "      <td>0</td>\n",
              "      <td>no, it's not behaving at all i'm mad why am i ...</td>\n",
              "    </tr>\n",
              "    <tr>\n",
              "      <th>4</th>\n",
              "      <td>0</td>\n",
              "      <td>not the whole crew</td>\n",
              "    </tr>\n",
              "  </tbody>\n",
              "</table>\n",
              "</div>"
            ],
            "text/plain": [
              "   target                                               text\n",
              "0       0  is upset that he can't update his facebook by ...\n",
              "1       0  i dived many times for the ball managed to sav...\n",
              "2       0     my whole body feels itchy and like its on fire\n",
              "3       0  no, it's not behaving at all i'm mad why am i ...\n",
              "4       0                                 not the whole crew"
            ]
          },
          "metadata": {},
          "execution_count": 124
        }
      ]
    },
    {
      "cell_type": "markdown",
      "metadata": {
        "id": "wxmCTIKlhFOD"
      },
      "source": [
        "\n",
        "\n",
        "\n",
        "**8. Split train and test data with 80% and 20%**"
      ]
    },
    {
      "cell_type": "code",
      "metadata": {
        "id": "vwkNhbgrqNbJ",
        "colab": {
          "base_uri": "https://localhost:8080/",
          "height": 204
        },
        "outputId": "92d6151f-6659-4f75-a929-a3d4c20fbe11"
      },
      "source": [
        "# random split train and test data\n",
        "index = df.index\n",
        "df['random_number'] = np.random.randn(len(index))\n",
        "train = df[df['random_number'] <= 0.8]\n",
        "test = df[df['random_number'] > 0.8]\n",
        "\n",
        "train.head()\n",
        "#test.head()"
      ],
      "execution_count": null,
      "outputs": [
        {
          "output_type": "execute_result",
          "data": {
            "text/html": [
              "<div>\n",
              "<style scoped>\n",
              "    .dataframe tbody tr th:only-of-type {\n",
              "        vertical-align: middle;\n",
              "    }\n",
              "\n",
              "    .dataframe tbody tr th {\n",
              "        vertical-align: top;\n",
              "    }\n",
              "\n",
              "    .dataframe thead th {\n",
              "        text-align: right;\n",
              "    }\n",
              "</style>\n",
              "<table border=\"1\" class=\"dataframe\">\n",
              "  <thead>\n",
              "    <tr style=\"text-align: right;\">\n",
              "      <th></th>\n",
              "      <th>target</th>\n",
              "      <th>id</th>\n",
              "      <th>date</th>\n",
              "      <th>flag</th>\n",
              "      <th>user</th>\n",
              "      <th>text</th>\n",
              "      <th>random_number</th>\n",
              "    </tr>\n",
              "  </thead>\n",
              "  <tbody>\n",
              "    <tr>\n",
              "      <th>1</th>\n",
              "      <td>0</td>\n",
              "      <td>1467810917</td>\n",
              "      <td>Mon Apr 06 22:19:53 PDT 2009</td>\n",
              "      <td>NO_QUERY</td>\n",
              "      <td>mattycus</td>\n",
              "      <td>i dived many times for the ball managed to sav...</td>\n",
              "      <td>-0.474993</td>\n",
              "    </tr>\n",
              "    <tr>\n",
              "      <th>2</th>\n",
              "      <td>0</td>\n",
              "      <td>1467811184</td>\n",
              "      <td>Mon Apr 06 22:19:57 PDT 2009</td>\n",
              "      <td>NO_QUERY</td>\n",
              "      <td>ElleCTF</td>\n",
              "      <td>my whole body feels itchy and like its on fire</td>\n",
              "      <td>-0.308707</td>\n",
              "    </tr>\n",
              "    <tr>\n",
              "      <th>3</th>\n",
              "      <td>0</td>\n",
              "      <td>1467811193</td>\n",
              "      <td>Mon Apr 06 22:19:57 PDT 2009</td>\n",
              "      <td>NO_QUERY</td>\n",
              "      <td>Karoli</td>\n",
              "      <td>no, it's not behaving at all i'm mad why am i ...</td>\n",
              "      <td>0.188447</td>\n",
              "    </tr>\n",
              "    <tr>\n",
              "      <th>4</th>\n",
              "      <td>0</td>\n",
              "      <td>1467811372</td>\n",
              "      <td>Mon Apr 06 22:20:00 PDT 2009</td>\n",
              "      <td>NO_QUERY</td>\n",
              "      <td>joy_wolf</td>\n",
              "      <td>not the whole crew</td>\n",
              "      <td>-0.221872</td>\n",
              "    </tr>\n",
              "    <tr>\n",
              "      <th>5</th>\n",
              "      <td>0</td>\n",
              "      <td>1467811592</td>\n",
              "      <td>Mon Apr 06 22:20:03 PDT 2009</td>\n",
              "      <td>NO_QUERY</td>\n",
              "      <td>mybirch</td>\n",
              "      <td>need a hug</td>\n",
              "      <td>-0.469705</td>\n",
              "    </tr>\n",
              "  </tbody>\n",
              "</table>\n",
              "</div>"
            ],
            "text/plain": [
              "   target          id                          date      flag      user  \\\n",
              "1       0  1467810917  Mon Apr 06 22:19:53 PDT 2009  NO_QUERY  mattycus   \n",
              "2       0  1467811184  Mon Apr 06 22:19:57 PDT 2009  NO_QUERY   ElleCTF   \n",
              "3       0  1467811193  Mon Apr 06 22:19:57 PDT 2009  NO_QUERY    Karoli   \n",
              "4       0  1467811372  Mon Apr 06 22:20:00 PDT 2009  NO_QUERY  joy_wolf   \n",
              "5       0  1467811592  Mon Apr 06 22:20:03 PDT 2009  NO_QUERY   mybirch   \n",
              "\n",
              "                                                text  random_number  \n",
              "1  i dived many times for the ball managed to sav...      -0.474993  \n",
              "2     my whole body feels itchy and like its on fire      -0.308707  \n",
              "3  no, it's not behaving at all i'm mad why am i ...       0.188447  \n",
              "4                                 not the whole crew      -0.221872  \n",
              "5                                         need a hug      -0.469705  "
            ]
          },
          "metadata": {},
          "execution_count": 11
        }
      ]
    },
    {
      "cell_type": "markdown",
      "metadata": {
        "id": "b0zRq_BAXtjn"
      },
      "source": [
        "**8.1. Implement k-fold cross validation with k= 10**"
      ]
    },
    {
      "cell_type": "code",
      "metadata": {
        "colab": {
          "base_uri": "https://localhost:8080/"
        },
        "id": "0ybCjGPRXsa5",
        "outputId": "c23d119e-bb76-45a9-e16d-8c3b3d60d8c0"
      },
      "source": [
        "kf = KFold(n_splits = 10, shuffle = True, random_state = 42)\n",
        "result = next(kf.split(df), None)\n",
        "#results = kf.get_n_splits(df)\n",
        "#results\n",
        "\n",
        "train = df.iloc[result[0]]\n",
        "print(\"Training data shape:\"+str(train.shape))\n",
        "test =  df.iloc[result[1]]\n",
        "print(\"Test data shape:\"+str(test.shape))"
      ],
      "execution_count": null,
      "outputs": [
        {
          "output_type": "stream",
          "name": "stdout",
          "text": [
            "Training data shape:(1439999, 6)\n",
            "Test data shape:(160000, 6)\n"
          ]
        }
      ]
    },
    {
      "cell_type": "markdown",
      "metadata": {
        "id": "f0Z4tVdCX6en"
      },
      "source": [
        "**8.2. Plot train data with sentiment distribution**"
      ]
    },
    {
      "cell_type": "code",
      "metadata": {
        "colab": {
          "base_uri": "https://localhost:8080/",
          "height": 349
        },
        "id": "r1rq4ppRXEW3",
        "outputId": "72f4ba4b-c88d-4b57-cb2c-22a41f71b403"
      },
      "source": [
        "sns.countplot(train.target,).set_title(\"Training data with k=10\")\n",
        "plt.xlabel('Sentiment')\n",
        "plt.ylabel('Number of tweets')\n",
        "plt.show()"
      ],
      "execution_count": null,
      "outputs": [
        {
          "output_type": "stream",
          "name": "stderr",
          "text": [
            "/usr/local/lib/python3.7/dist-packages/seaborn/_decorators.py:43: FutureWarning: Pass the following variable as a keyword arg: x. From version 0.12, the only valid positional argument will be `data`, and passing other arguments without an explicit keyword will result in an error or misinterpretation.\n",
            "  FutureWarning\n"
          ]
        },
        {
          "output_type": "display_data",
          "data": {
            "image/png": "[encoded data removed]",
            "text/plain": [
              "<Figure size 432x288 with 1 Axes>"
            ]
          },
          "metadata": {
            "needs_background": "light"
          }
        }
      ]
    },
    {
      "cell_type": "markdown",
      "metadata": {
        "id": "cFAdCpJCYKer"
      },
      "source": [
        "**8.3. Plot test data with sentiment distribution**"
      ]
    },
    {
      "cell_type": "code",
      "metadata": {
        "colab": {
          "base_uri": "https://localhost:8080/",
          "height": 349
        },
        "id": "f1BcLpW5XQtk",
        "outputId": "098a4929-f1fe-4171-cde9-20a6f6e410be"
      },
      "source": [
        "sns.countplot(test.target,).set_title(\"Test data with k=10\")\n",
        "plt.xlabel('Sentiment')\n",
        "plt.ylabel('Number of tweets')\n",
        "plt.show()"
      ],
      "execution_count": null,
      "outputs": [
        {
          "output_type": "stream",
          "name": "stderr",
          "text": [
            "/usr/local/lib/python3.7/dist-packages/seaborn/_decorators.py:43: FutureWarning: Pass the following variable as a keyword arg: x. From version 0.12, the only valid positional argument will be `data`, and passing other arguments without an explicit keyword will result in an error or misinterpretation.\n",
            "  FutureWarning\n"
          ]
        },
        {
          "output_type": "display_data",
          "data": {
            "image/png": "[encoded data removed]",
            "text/plain": [
              "<Figure size 432x288 with 1 Axes>"
            ]
          },
          "metadata": {
            "needs_background": "light"
          }
        }
      ]
    },
    {
      "cell_type": "markdown",
      "metadata": {
        "id": "wsC_bLH6fNpy"
      },
      "source": [
        "**A. Define HTFIDFVectorizer.**"
      ]
    },
    {
      "cell_type": "code",
      "metadata": {
        "id": "DeA87T0ffMrY"
      },
      "source": [
        "class HTFIDFVectorizer(CountVectorizer):\n",
        "    pass\n"
      ],
      "execution_count": null,
      "outputs": []
    },
    {
      "cell_type": "markdown",
      "metadata": {
        "id": "LQP1pczoxcOt"
      },
      "source": [
        "**Create the dictionary of HTFIDF terms vocabulary**"
      ]
    },
    {
      "cell_type": "code",
      "metadata": {
        "id": "Yd0VbrXZqC3k"
      },
      "source": [
        "terms_df = pd.read_csv('/content/gdrive/MyDrive/Colab Notebooks/datasets/h-tfidf-Biggest-score.csv', encoding='latin1')\n",
        "terms =[]\n",
        "for index, row in terms_df.iterrows():\n",
        "  terms.append(row['terms'])\n",
        "terms = list(dict.fromkeys(terms))\n",
        "i = 0\n",
        "vocabulary = dict()\n",
        "for term in terms:\n",
        "  vocabulary[term] = i\n",
        "  i+=1"
      ],
      "execution_count": null,
      "outputs": []
    },
    {
      "cell_type": "markdown",
      "metadata": {
        "id": "pcvMrEs4xko8"
      },
      "source": [
        "**Create H-TF-IDF Vectorizer from the vocabulary of H-TF-IDF terms**"
      ]
    },
    {
      "cell_type": "code",
      "metadata": {
        "colab": {
          "base_uri": "https://localhost:8080/"
        },
        "id": "DSwBAmADSvvz",
        "outputId": "b6d27ae7-ea9e-404a-956e-78cecd424f10"
      },
      "source": [
        "vectorizer = HTFIDFVectorizer(ngram_range=(n_gram_min, n_gram_max), # to use bigrams ngram_range=(2,2)\n",
        "                           lowercase = True , vocabulary=vocabulary)\n",
        "#data_matrix = vectorizer.fit_transform(['The mikequindazzi quick gt is brown school gold matt fox','jumped over the lazy dog'])\n",
        "#data_matrix = vectorizer.fit_transform(train['text'])\n",
        "train_matrix = vectorizer.fit_transform(train['text'])\n",
        "test_matrix = vectorizer.transform(test['text'])\n",
        "\n",
        "print(vectorizer.get_feature_names())\n",
        "#data_matrix.toarray()"
      ],
      "execution_count": null,
      "outputs": [
        {
          "output_type": "stream",
          "name": "stdout",
          "text": [
            "['gt', 'mikequindazzi', '#coronarvirus', '#china', '#wuhancoronavirus', '#wuhancoronavirusoutbreak', '#chinacoronavirus', '#wuhan', '#coronoavirus', '#coronarovirus', '#h5n1', 'outbreak', '14', '258', 'eighth', 'no1', '#4ir', '#payments', 'preexisting', 'deaths', 'boston', 'motive', 'witnesses', 'yung', 'ago', 'like', '#zerohedge', '304', 'french', 'insertions', 's', 'just', 'claimed', '#twitter', 'sun', 'coronavirus', 'banned', 'recorded', 'illness', '380', 'suspend', 'help', '300', 'airbus', 'chinese', 'confirmed', 'penalty', 'stars', '#chinavirus', 'going', 'ethnicity', 'bioweapon', 'mortality', 'chosen', 'lassa', 'witness', 'nyt', '#coronarivus', 'calculate', 'liverpool', 't', '#coronaoutbreak', 'suddenly', '#coronavirus', 'appeal', 'restrict', 'ncov', 'recovered', 'process', 'point', 'twitter', '#iot', '#machinelearning', 'pakistani', 'spoken', 'vp', 'wuhan', 'na', 'ben', 'gap', 'people', 'bc', 'safe', 'paltrow', 'death', 'bay', '#ai', 'government', 'flu', 'china', 'epicenter', 'nigerian', 'stores', 'ur', 'entry', 'ordered', 'hiv', '#tweeted', '@earth', 'bumping', 'gwyneth', 'staffordshire', 'possible', 'toll', 'evacuated', '#pakistan', 'virus', 'officials', 'ready', '3', 'dead', '#caturday', '@agnesbuzyn', '@changefrance', '@picardonhealth', 'brazilians', 'demented', 'lala', 'spout', 'strawberry', 'strides', 'create', 'rises', 'rate', '2', '#apple', 'woke', 'oh', 'footage', 'eating', '#ar', '#game', '#honda', '#terrorism', '@lozzafox', '@metpoliceuk', '@tfl', 'adhd', 'astronomy', 'envelope', 'garments', 'grape', 'isles', 'jj', 'm4', 'normalize', 'promptly', 'smug', 'sry', 'biden', 'brits', 'cnbc', 'problem', '#health', 'got', 'infects', 'animal', 'similar', '#cornonavirus', '#earthquake', '#fact', '791', '@alan', '@bettemidler', '@pattyhajdu', 'addictive', 'apparel', 'calculations', 'clara', 'cosplay', 'divides', 'fanmeet', 'farewell', 'ju', 'merchant', 'mof', 'pirate', 'proofs', 'suite', 'manage', 'days', 'don', 'arrest', 'crazy', '324', '@evankirstel', '@mayoroflondon', 'allegiance', 'barring', 'eclipse', 'equates', 'hosp', 'ivory', 'journos', 'patrolling', 'phoenix', 'raytheon', 'refuge', 'typing', 'uncanny', 'vegans', 'weirdo', '4', 'countries', 'citizens', 'carry', 'number', 'order', '#defstar5', '260', '@etsy', 'abilities', 'ans', 'bingo', 'bruno', 'colour', 'decease', 'dumplings', 'evidences', 'malay', 'occurrence', 'openness', 'outpacing', 'politely', 'pp', 'psyop', 'retirement', 'sensational', 'snowflake', 'operations', 'february', 'person', 'fund', 'past', 'face', 'touch', 'infected', 'believe', 'cause', '#coronarivirus', '#latest', '#smartphones', 'buzzfeed', 'ferry', 'interval', 'kurdistan', 'leaf', 'noo', 'psychic', 'tad', 'themself', 'uncontrollable', 'isolated', 'tea', 'info', 'latest', 'evacuate', '305', '@amyyqin', '@latimes', '@thedemocrats', 'arabs', 'biologist', 'commander', 'diff', 'governmental', 'hygienic', 'infact', 'inundated', 'queensland', 'rattles', 'roman', 'understands', 'early', 'love', 'realize', 'suffer', 'knows', 'source', 'super', 'closes', 'ignorant', 'secret', 've', 'sick', '#whitehouse', '259', 'abi', 'bacon', 'biorxiv', 'didi', 'glasgow', 'hd', 'importation', 'indicative', 'isle', 'likewise', 'lin', 'massachusetts', 'modelo', 'publishes', 'respectively', 'ruins', 'stare', 'trim', 'uwu', 'wei', 'lockdown', 'white', 'usa', 'closer', 'corruption', 'fatalities', '9', 'hands', 'version', '@stillgray', 'celebrity', 'clearance', 'cows', 'fin', 'hs', 'impeached', 'laptop', 'pero', 'premature', 'santa', 'sham', 'similarity', 'military', 'rt', 'easy', 'perfect', 'won', 'emergency', 'set', '#facialrecognition', '102', '@bbc', '@nick', 'accent', 'accounted', 'collateral', 'exempt', 'fist', 'frustration', 'gag', 'inserts', 'pressed', 'sanitary', 'spinning', 'mom', 'shame', 'weird', 'year', 'holiday', 'reported', 'spreading', '@schuldensuehner', '@smtownglobal', '@thesun', 'correspondent', 'displaying', 'nbc', 'psa', 'quoting', 'smells', 'treason', 'whites', 'wwii', 'different', 'having', 'used', 'best', 'aids', 'compared', 'pakistan', 'medical', 'thank', '#mobile', '#worldnews', '174', '@layzhang', '@weareoneexo', 'animated', 'artificially', 'bitter', 'ebay', 'enhanced', 'executives', 'researching', 'rounded', 'shouting', 'specialists', 'stoking', 'case', 'locked', '2019', '@barackobama', '@zerohedge', 'canary', 'distinct', 'freaked', 'functions', 'gifts', 'highlighting', 'hiring', 'hotspot', 'humble', 'kevin', 'pilots', 'ro', 'simpsons', 'racist', 'watch', 'really', 'cases', 'hit', 'natural', '#deeplearning', 'boyfriend', 'horses', 'shrinking', 'terminal', 'tories', 'valued', 'vintage', 'sunday', 'condition', 'returning', '1', '@cpho', 'distraction', 'dumbass', 'fury', 'gosh', 'naija', 'ppe', 'preach', 'recoveries', 'shaped', 'official', 'stop', 'doesn', 'girl', 'residents', 'streets', 'york', '1st', 'sars', '#northkorea', 'automotive', 'dress', 'drove', 'entitled', 'ghebreyesus', 'inject', 'lemme', 'melting', 'pledge', 'replied', 'soaring', 'stomach', 'turmoil', 'visible', 'voter', 'yixing', 'm', 'win', 'words', 'fever', 'o', 'tested', '#censorship', '#donaldtrump', '#safety', 'adhanom', 'choices', 'concentrated', 'echo', 'functioning', 'germans', 'mafia', 'morrison', 'semester', 'soo', 'westerners', 'actual', 'scary', 'videos', 'says', '6', 'war', 'advocate', 'calendar', 'diabetes', 'ears', 'ko', 'mentioning', 'qiushi', '#coronavirusoutbreak', '#coronaviruschina', 'doctor', 'allah', 'wenliang', 'cruise', 'muslims', '#hongkong', 'new', 'uighur', 'kong', 'hong', 'li', '@unntv1', '#equity', '#british', 'amp', 'u', 'strange', 'news', 'health', 'million', 'need', 'tyler', 'world', 'defeated', 'british', 'claims', 'ship', 'masks', 'ppl', 'alcohol', 'man', 'amid', 'honey', '#liwenliang', 'died', 'global', 'france', 'said', 'dies', 'know', 'home', 'spread', 'epidemic', 'explained', 'university', '#corona', 'hospital', 'discriminate', 'day', 'american', 'mha', 'original', 'novel', 'japan', 'think', 'patients', 'quarantine', 'dr', '#japan', '#ontario', '#princesscruises', 'hero', 'use', 'family', 'reports', 'market', 'owns', 'media', 'fear', '201', 'whistleblower', 'exhibition', 'stay', '7', 'hospitals', 'live', 'make', 'boy', 'uk', 'singapore', 'disabled', 'real', 'l', 'mexico', 'isolation', '#coronavirusph', '#toronto', 'taiwan', 'study', 'corona', 'hand', 'biotech', 'undetected', 'japanese', 'video', '#stocks', 'gonna', 'diagnosed', 'js', 'old', 'le', 'trump', 'doing', 'd', 'apology', 'friends', 'week', 'thanks', 'anime', 'say', 'way', 'impact', '#xijingping', 'manga', 'report', 'forces', 'sparks', 'near', '#coronavirusfrance', '#2019ncov', 'want', 'sur', 'external', 'spikes', 'sure', 'ccp', 'paper', 'treated', 'sounded', 'symptoms', 'bad', 'fake', 'fucking', 'worse', '#biotech', 'invited', 'isn', '8', 'brains', '20', '#superbowl', '@dbongino', 'rumours', 'little', 'fight', 'including', 'lives', 'delayed', 'passenger', 'concerns', 'xi', 'situation', 'years', 'justice', 'paris', 'prank', 'youtuber', 'warned', 'big', '#breaking', 'supply', 'worry', 'hope', 'time', 'post', 'comparing', 'father', 'crossings', 'joining', 'break', 'god', 'eat', 'britons', 'united', 'human', 'probably', 'zone', 'look', 'alps', '#f24', '@chgocadchic', 'oil', 'disease', 'using', 'stranded', 'hey', 'rest', 'infection', '@youtube', 'challenge', '5', 'panic', 'saw', 'activity', 'shop', 'mean', 'y', 'die', 'charged', 'deficit', 'europe', 'money', 'thing', 'sir', 'standard', 'sharing', 'wrong', 'mutates', 'group', 'mainland', 'read', 'govt', 'social', 'la', 'joke', 'r', 'investigate', '#cdnpoli', '#frankfurt', '#premier', '@doriszelaya5', '@lenlucas46', '@pjamesjp1', '@stillwaters777', '@tgradous', 'ceemarketwatch', 'metallic', 'uniqlo', 'vaccine', 'let', 'fears', 'doctors', 'beer', 'citizen', 'leader', 'growth', 'good', 'daily', 'battles', 'plane', 'strong', 'warning', 'outside', 'risk', '@scmpnews', 'exports', '2020', 'place', 'response', 'states', 'tried', 'send', 'mass', '#youtube', 'carrying', 'threat', 'actually', 'trade', 'medicine', 'huge', 'pandemic', 'cure', 'drug', '#weather', '722', '7double', '@finy06', '@jennifernuzzo', '@jubilee', '@shotsrangout', 'barbados', 'cooperative', 'morts', 'opa', '#tokyo2020', '360', 'mention', 'scenario', 'pay', '@china', 'agreement', 'lesson', 'markets', 'plan', 'working', 'shortage', 'friday', 'turn', 'business', 'story', 'nov', 'wartime', 'passengers', 'longer', 'close', 'approval', 'killed', 'canada', 'course', 'tells', 'warn', '@ivankatrump', 'information', 'flight', 'reminds', 'stan', 'critical', '#fail', '#metal', '#swineflu', '1993', '438', 'commentator', 'neighbourhoods', 'rapunzel', 'bodies', 'island', 'nationals', 'saudi', 'weeks', 'workers', 'australia', 'reuters', 'abuse', 'additional', 'care', 'data', 'ok', 'act', 'asians', 'built', 'caution', 'great', 'hard', 'event', 'TRUE', 'class', 'drink', 'airlines', 'high', '#independent', '@freelion7', '@marylene58', 'clone', 'diagram', 'stadiums', 'sweatshops', '#pandemic', 'urges', 'warfare', 'experts', 'company', 'literally', 'pray', 'em', 'grows', 'pompeo', '10', 'cdc', 'hk', 'p', '24', 'healthy', 'night', 'recent', 'technology', 'did', 'saying', 'trapped', 'fires', 'jesus', 'reduce', 'student', 'positive', 'ended', 'nurses', '30', 'authorities', 'interesting', 'treatment', 'w', 'inside', 'likely', 'dumps', 'panicky', 'yeah', 'department', 'continue', 'goes', 'plans', '0', 'door', 'weak', 'save', 'sounds', 'viral', 'centres', 'technical', 'according', 'dangerous', '@pdchina', 'search', 'air', 'needs', '20th', 'detention', 'requests', 'tencent', 'come', 'ships', '#olympics2020', 'academia', 'converting', '@jenniferatntd', 'product', '#covid19', '#sarscov2', '#honkhonk', 'finally', 'tourist', '19', 'africa', 'covid', 'egypt', 'hubei', 'asia', '@wardandsmith', 'procedure', 'insuring', 'cambodia', '#update', '500', 'hs2', 'party', 'total', '@dentons', 'geodis', 'hipaa', 'india', 'economy', '@pillsburylaw', 'beijing', 'deal', 'announces', 'shows', 'public', 'work', '#paris', 'london', 'infections', 'black', 'quarantined', 'horse', 'americans', 'province', '#covid2019', 'serpent', '@blakezeff', 'patient', '80', 'huawei', 'attorneys', '5g', '13', 'future', 'level', 'coming', 'crisis', 'security', 'property', 'national', 'liability', 'rider', '@labor', '#france', 'away', 'guide', 'test', 'makes', 'employers', 'asian', 'population', '15', 'rise', 'seed', 'potential', 'control', 'lab', 'alibaba', '#dtmag', 'korea', 'kill', 'mao', '#covid', 'announced', 'risks', 'saturday', 'communist', 'racism', 'end', 'buzyn', 'russia', 'millions', 'does', '@roy', 'red', 'obligations', 'worldwide', 'economic', 'start', 'right', 'hates', 'spike', 'privacy', 'cia', 'thought', 'improved', 'lol', 'deadly', '#agnesbuzyn', 'organization', 'travel', 'related', 'better', 'princess', 'line', 'flights', 'based', 'told', '@', '#uk', 'beginning', 'feb', 'means', 'truth', 'simple', 'warns', 'bloomberg', 'run', 'companies', 'll', 'hours', 'review', 'foreign', 'fuck', 'billionaire', 'conquer', 'confirms', 'build', '12', 'expert', 'fall', 'life', 'hillary', 'sourcing', 'chain', 'crew', 'called', 'long', 'minister', '#us', 'mask', 'drop', 'results', 'dock', 'intellectual', 'building', '@realdonaldtrump', 'april', 'living', 'preorder', 'inventory', '2nd', '400', '139', 'article', 'n', 'selling', 'valentine', 'mwc', 'ebola', 'free', 'chine', 'police', 'update', 'instead', 'north', 'tech', 'things', 'knew', 'understand', 'idea', 'spalding', 'chief', '67', 'fatality', 'testing', 'prices', '#job', 'board', 'tell', '#geodis', '@crypticfirerbx', '@handmadekathy', '60', 'e', 'house', 'rights', 'conspiracy', 'blankets', 'demand', 'rule', 'protect', 'woman', 'sales', 'takes', 'navigating', '@who', 'origin', 'speak', 'tame', 'support', 'getting', 'hear', 'numbers', 'cut', 'january', 'taxi', 'team', 'heart', 'bbc', 'factbox', '#diamondprincess', 'shall', 'britain', 'shut', 'legal', 'dogs', 'speech', 'en', 'coal', 'question', 'declared', 'releases', 'evacuation', 'style', 'ahead', 'feeds', 'community', 'known', 'works', 'yes', '355', 'soon', 'ban', 'fighting', 'result', 'research', 'change', 'america', 'diamond', 'taken', 'hate', 'transmission', 'comes', 'cam', '#who', '11', 'california', 'list', 'biggest', 'agent', '68', 'gas', '@backreluctantly', '@chanel5', '@eternalritewing', '@kellyrek', '@rebbetakes', 'cgottlieb', '@cyr', '@c', '@thrashima', 'mort', 'apple', 'revenue', 'south', '@hoganlovells', 'guidance', 'majeure', '#iran', 'iran', 'gump', '@drericding', 'church', 'businesses', '@chrisduran', 'du', 'contractual', '@akin', '@morganlewislaw', 'financial', '#bourse', 'term', '@javijogonpa', '18', 'eu27', 'responding', 'international', '@littler', '#southkorea', 'force', 'goods', '#cac', '@cidrap', 'interruption', 'wall', 'today', 'power', 'italy', '#cac40', 'march', 'eu', 'employment', 'uptick', 'despite', '16', 'lot', 'mayor', 'reprend', 'rajavi', '@robinskaplan', 'chains', 'quarter', 'contain', 'industry', 'policy', '@bnodesk', '21', 'map', 'emissions', 'expectations', 'director', 'cities', 'issue', 'ing', 'cash', '#gearbest', 'target', 'bank', 'check', '@mikayesfiona', '@trvrb', 'seen', 'q4', 'non', 'korean', 'monday', 'president', 'abatement', '@arentfox', 'itc', 'molybdenum', 'miss', 'making', 'posted', 'performance', 'link', 'law', 'linked', 'buy', 'axes', 'ministry', 'delivery', 'iranian', 'tokyo', '40', 'cotton', 'multinational', 'insurance', 'shit', '24h', 'european', 'cfr', 'central', '#bonplan', '#discount', 'pelham', 'smithers', 'weathering', '22', 'ps', 'transactions', 'issues', 'didn', 'far', 'regime', 'local', 'c', '#', 'morning', 'lebanon', 'billion', 'stimulus', 'ebright', 'anti', 'caused', 'major', 'wildlife', 'brother', 'percent', 'bats', 'ukraine', 'taking', '@faschima', 'supra', 'meet', 'viruses', 'jinping', 'elderly', 'dax', '#deal', 'hone', 'song', 'efforts', 'h', 'remember', 'dollar', 'analysis', 'expected', 'evidence', 'reporting', 'science', 'investors', 'strategy', 'hundreds', 'key', 'questions', 'given', 'street', 'bbg', 'listen', 'nation', 'journal', 'contact', 'cuts', 'thread', 'currently', 'short', 'book', 'breaking', '@r', 'pence', '@corse', 'matin', 'stock', 'fang', 'italian', 'hotel', 'administration', 'nigeria', '#coronavirusupdates', 'hhs', '@trackinsightetf', 'chen', 'charge', 'border', 'updates', 'school', 'northern', 'petition', 'dow', 'mike', 'job', 'borders', '200228', 'magi', 'realtor', 'runninghorse', 'villeroy', '23', 'tenerife', 'schools', '#trumpvirus', 'stocks', '@trish', '#italy', 'incompetent', 'superm', 'regan', '@cnn', 'important', 'budget', 'month', 'points', 'spreads', 'bin', 'les', 'ln', 'wait', 'guess', 'trying', '#mark', '#superm', 'vigil', 'bazaar', 'daegu', 'prepared', 'alert', 'threatens', 'affected', 'services', 'donald', 'partisan', 'gone', 'cancelled', 'started', '@foxnews', 'yo', 'went', 'fine', '#maga', 'staff', 'blame', 'prepare', 'closures', 'simply', 'happened', 'effort', 'tests', 'spain', 'especially', 'democrats', 'guy', 'aren', 'prevent', 'closed', '100', 'worried', 'yesterday', 'safety', 'im', 'harper', 'forecast', 'sm', 'guys', 'scared', '#warroompandemic', 'milan', 'advice', '@vp', 'sicily', 'details', 'allow', '#coronavirius', 'vote', 'cover', 'mission', 'cancel', 'middle', 'times', '@jayinslee', 'jump', 'entire', 'wanted', 'austria', 'imagine', 'magazine', 'low', 'expect', 'broker', 'left', 'adding', 'season', 'maybe', 'bit', 'handling', 'protective', 'history', 'thinking', 'exactly', 'office', 'write', 'conference', 'political', 'fact', '#covid19us', 'follow', 'idiot', 'months', 'measures', 'k', 'bts', 'dems', '26', 'n95', 'plague', 'mad', 'recession', 'arrived', 'funding', '150', 'head', 'appointed', 'surge', 'cold', 'damn', '@rfi', '#agenparlenglish', '#socialnetwork', '@bloglovin', '#agenparl', 'abstract', '#situation', 'brige', '#salute', 'su', 'di', '#report', '#politicaestera', 'martial', '#https', '#galaxy', '#newsbygatfil', 'chiave', 'parole', 'nhk', 'ultime', '#beijing', 'committee', 'poorest', 'adesso', '#ambiente', 'centers', '#nhfpc', 'edited', 'mute', 'issued', '#coronaviruspandemic', 'prevention', '#samsung', '#2020', 'galaxy', '#chinamike', 'sound', '#scienzaetecnologia', 'cneb', 'sina', '#usa', 'donno', 'stefano', '#nowplaying', '#ecm', '#educazione', 'yyyy', '#countries', 'flack', 'action', 'ifrc', 'pst', 'da', '#dg', '#infectionmap', '#remarks', 'cura', 'median', 'mm', 'steel', 'caroline', '#clinical', 'sting', 'cp', '#wuhanoutbreak', 'dd', 'discover', '15th', 'baby', '#biowarfare', '#outbreak', 'samsung', 'ssrn', '@carlzha', 'updated', '#press', '@lovedvoiceless', 's20', '@florafauna9999', 'radio', 'web', 'genetic', '#egypt', 'eea', '#paginanuova', '@uw', 'summit', '#convid19', 'medicina', 'boredom', 'j', '#risk', '#bioweapon', '#auto', 'evil', 'ft', '#assessment', '#difesa', '#epidemiological', 'origins', '#spread', '#bloomberg', 'trend', 'google', '#transmission', 'images', 'fold', '#arteculturaintrattenimento', '#cina', '#features', '#like', 'oggi', 'transgender', 'canceled', 'advertising', 'click', '#public', 'remix', '#democrats', 'presumably', '#dennis', '#icu', '#strong', 'chp', '@berniesanders', '#eu', '#pneumonia', '#hk', '90', '@jhusystems', 'victims', 'alleged', '#taiwan', '#vatican', '#wakayama', '@bbchealth', 'Italyn', 'children', '@petebuttigieg', 'mobile', 'clothes', 'happening', 'wb', '@ecdc', 'gp', 'imo', 'port', '#canada', 'summary', 'sudden', 'stand', 'billie', 'giga', 'womb', '143', 'cet', 'tightens', 'provide', 'aboard', 'ca', '#cases', '#event', 'wealthy', 'food', '@jackposobiec', 'able', 'killing', 'association', '17', 'marketing', 'supporters', '#briefing', 'bring', '#coronaviruses', '#community', 'clinical', 'cost', '#coronavairus', 'globe', 'med', '#hawaii', 'cna', 'summoned', 'feels', 'airport', '700', 'proud', 'matter', 'evolution', '#africa', 'lived', '#doctor', '#european', '641', 'jun', 'montreal', 'worst', 'areas', 'digital', 'hold', '@fao', 'breaches', 'infants', 'william', '#brunobaldassarri', '#iodonna', '#mia', '#valerianamariani', 'hgis', 'briefing', 'continent', 'plant', '@ewarren', 'snake', 'increased', 'barrel', '@joebiden', 'organizers', 'verge', 'feel', 'african', 'open', 'pm', 'au', 'systemic', 'poor', 'cancels', 'congress', 'brain', 'weekly', 'vatican', 'cardinal', 'dennis', '#economia', '#infrastrutture', '#lessons', 'china#la', 'garage', 'warships', 'researchers', 'restrictions', 'theory', 'diseases', 'ah', '#coronavirusItaly', '#feedblitz', 'ora', '#search', 'ultim', 'crl', '#coronarvirusItaly', '#style', '@spectatorindex', 'lombardy', 'region', '#cluster', 'codogno', '#ansa', 'lancet', 'cong', '#award', 'libra', 'reu', '@hsiglobal', '#acasadijack', '#awardwomen', '#fashionwoman', '#febbraio2020', '#imprenditoriafemminile', '#madeinitaly', '#seiofossidio', '#womenandleadership', '#youfm', '#codogno', 'dcep', '#news', 'towns', '@ilariacapua', '@micheleboldrin', 'qc', 'rhythm', '#korea', '#venice', '#virus', '#coronavirusitaly', '#leader', '@gianlucac1', 'elle', 'il', '#hospital', '@alykhansatchu', '#sars', 'second', '#lloyds', '@dpa', 'hanau', 'nkorea', 'manufacturing', '#trump', '#lombardy', 'wild', 'current', '#infection', 'veneto', '#more', '#epidemic', 'pax', '#height', 'crucially', '#hubei', '27', 'discharged', 'wonder', 'pal', '@v2019n', '#patients', 'dprk', '@googlenews', 'abort', 'Italy', 'east', '#topnews', '@x1official101', 'padua', 'thursday', '#quarantine', '#wallstreet', '@apple', '#travel', 'fx', '#hanau', 'nm', 'sony', 'daddy', 'cov', '38', 'negative', 'g', 'wsj', '#android', 'anuel', 'balvin', 'che', 'della', 'karol', 'lm', 'ozuna', 'rules', 'largest', 'domestic', 'scientists', '#nostradamus', '#government', '#lombardia', '@mcrbuild', '@re', 'wake', 'opening', 'policies', 'animals', '77', 'launch', 'ds', 'forza', 'dinner', 'marathon', '50', 'swing', 'xiao', 'monselice', 'jungkook', '#covid19italy', '#covid19Italy', '#coranavirusItaly', '#milan', '#coronaviriusItaly', '#coronaviruslombardia', '#infected', 'claudio', 'carnival', 'scanning', 'venice', 'del', '#coronavirusitalla', '#amuchina', '@flipboard', 'como', 'bologna', 'lagos', 'Italyns', '#Italy', '#coronavirusItalynews', '#milano', '#growth', 'salvini', '#architecture', 'sto', 'game', 'outbreaks', 'armys', 'grande', 'supermarket', 'inter', '#riskoff', '#securityaffairs', '@championsleague', 'pir', 'fox', 'rapid', 'messaging', '#airports', 'colleagues', 'weekend', 'came', 'center', 'tickets', '@fcbarcelona', 'pls', 'single', 'calm', 'kids', 'area', 'rome', 'prayer', 'fun', 'schumer', 'xbox', '#salvini', 'maxwell', 'stephen', 'regarding', 'bye', 'played', 'task', '200', 'happens', 'happen', '@thelocalitaly', 'naples', 'queen', 'series', 'tv', 'kits', '79', '@bts', 'respiratory', 'milano', 'ask', 'pyongyang', 'fault', 'cough', 'infectious', 'normal', 'mind', 'postponed', 'obama', 'turning', 'talking', '@johnfollain', 'pointing', '#coronav', '#veneto', 'waiting', 'lake', 'stupid', 'hi', 'trumps', 'nice', '#tourism', 'museums', 'praying', 'comment', 'figure', '@cdcgov', 'writing', 'wash', 'games', '#redvelvet', '#ars', 'spallanzani', '#human', '@drsjaishankar', 'lang', '#smartnews', 'sue', '#philippines', 'floor', 'fuckin', 'copied', 'stories', 'pet', 'rates', 'snuff', 'sta', '#brexit', 'rescue', '#companies', '#mars', '#prayforwuhan', '3500', '@hipster', 'ips', 'prospective', 'slogans', '@ncovnews', 'cemetery', 'crematory', 'exterminate', 'justifying', 'luigi', 'splash', 'uae', '#stress', '@tomvdmolen', 'culled', 'dds', 'jhu', 'positivity', 'appear', 'exist', '#currency', '40k', '@meaindia', 'authoritative', 'ideals', 'jury', 'lurking', 'punk', 'sushi', 'utopia', 'vivo', 'cats', 'image', 'zombie', '#pheic', '30th', 'damages', 'embarrassment', 'exclude', 'hospitality', 'manila', 'naman', 'p500', 'proudly', 'bird', 'isolate', '#birdflu', '@officialmcafee', 'directive', 'huhu', 'tunisia', 'tracking', '#infections', 'discriminating', 'overrated', 'hiding', 'jan', 'blood', 'careful', '#coronaviruesue', 'appreciation', 'confronting', 'reversed', 'intervene', 'mildly', 'pathogenic', 'supportive', 'theresa', '#emergency', 'apt', 'italia', 'maintains', 'marriage', 'masters', 'updating', '@mbuhari', 'debacle', 'everybody', '#life', '#market', '@darrenplymouth', '@narendramodi', '@pmoindia', 'consequence', 'melbourne', '@nytimes', '@mlipsitch', 'deaf', 'gon', 'honor', 'identification', '@indopac', '@t', 'agreements', 'gods', 'tyranny', 'urgently', 'bashing', 'conclude', 'excuses', 'h5n1', 'hostile', 'secrecy', 'answer', 'pneumonia', 'cheer', 'cocaine', 'interfere', 'vitamins', '#death', 'companion', 'feces', 'trader', 'wat', 'abandon', 'communicate', 'dat', 'decreasing', 'filipino', 'mandarin', 'virologists', 'afraid', 'wear', 'women', '@mike', 'chickens', 'chip', 'eur', 'pak', 'primarily', 'resulting', 'translate', 'wearing', 'coverup', 'saves', 'wtf', 'commitment', 'habits', 'ill', '#coronavirusitalia', '@mfa', 'absurd', 'anonymous', 'cabin', 'taiwanese', 'kills', 'dynamics', 'afp', 'band', 'circulating', 'investing', 'liar', 'lift', 'risking', 'ton', '#rt', 'dis', 'grown', 'sacrifice', 'arab', 'csse', 'draw', 'engineering', 'insider', 'stunning', 'common', 'captain', 'hint', 'refusing', 'voted', '@whitehouse', 'male', 'occur', 'openly', 'secretive', 'approaching', 'dashboard', 'determine', 'items', 'hashtag', 'indians', 'regularly', 'slams', 'kind', 'document', 'friendly', 'internal', '@borisjohnson', 'exponential', 'ii', 'crying', 'et', 'germs', 'hidden', 'implemented', 'islands', 'trillion', 'actively', 'loan', 'contaminated', 'religion', 'christian', 'gloves', 'loves', 'reveal', 'admitted', 'consumer', 'female', 'horror', 'invest', 'storm', 'stricken', '@cnbc', 'advanced', 'cell', 'fellow', 'johns', 'infecting', 'bless', 'confident', '44', 'announce', 'declares', 'sex', 'treatments', '#healthcare', 'agreed', 'court', 'jail', 'output', 'suspension', '48', 'properly', 'cuz', 'lessons', 'thoughts', 'professionals', 'challenges', 'mouth', 'rn', 'timeline', 'authoritarian', 'environment', 'film', 'hearing', 'helps', 'matters', 'reminder', 'choose', 'diagnosis', 'hopkins', 'league', 'meant', 'protecting', 'surgical', 'bs', 'chan', 'communism', 'helped', '31', 'authority', 'broke', 'covering', 'debt', 'decades', 'deals', '800', 'bruh', 'counter', 'everyday', 'luck', 'project', 'tweets', 'alarm', 'gotta', 'election', 'language', 'management', 'worries', 'airborne', 'explain', 'phase', 'institute', 'keeping', 'returned', 'statistics', 'till', 'amazon', 'clean', 'systems', 'union', 'danger', 'push', 'feeling', 'strain', 'culture', '#chinese', 'coughing', 'dumb', 'putting', 'responsible', 'san', 'stuck', 'correct', 'causing', 'reading', 'amazing', 'fly', 'affect', 'recently', 'kirk', 'douglas', 'fara', '#class', '@ericgarland', 'firma', 'lobbyists', '#asia', '@lisamurkowski', 'representing', 'mistake', 'kai', 'leaders', 'divergence', 'ansa', '#singapore', 'donations', '#change', 'acquitted', 'chump', '@un', 'database', '#2019cov', '@crof', 'grabbed', 'reprimanded', 'unrest', 'maps', 'andrea', 'dug', 'franc', 'prez', '52', '61', 'named', 'carolina', 'catholics', 'mineral', 'plead', 'deep', '#pangolin', '20m', 'persuade', 'vagina', 'attorney', 'agency', 'hospitalized', 'graham', 'certain', 'wo', 'period', 'production', '#malware', 'interventions', 'meaningless', 'platform', 'repo', 'resident', 'account', 'occurs', '#startup', 'tonnes', 'wisconsin', 'philippine', 'special', 'students', 'dhs', 'jersey', 'sole', 'passed', 'atleast', 'engagement', 'sequence', 'shadows', 'til', 'valentines', 'reaches', 'barr', 'solidarity', 'ba', 'donates', 'modi', 'pages', 'peak', '#spain', '#vietnam', 'blower', 'commodity', 'communications', 'stray', 'vile', 'alive', 'yall', 'nk', 'couple', 'beat', 'detected', 'produce', 'charity', 'swine', 'sad', 'clip', 'customer', 'meme', 'leave', 'significant', 'picked', 'levels', 'supposed', 'narrowed', 'surveillance', 'governance', 'intensive', '#global', 'hole', 'venture', 'couldn', 'factories', 'uber', 'whistle', '@ameshaa', '@pimpmytweeting', 'experimented', 'scar', 'shorting', 'unloaded', 'brace', 'ease', 'italians', 'model', 'dip', 'drivers', 'fourth', 'limits', 'moron', 'reality', 'fate', 'wet', 'awesome', 'depends', 'medics', 'november', 'unit', '#containers', '#hotel', '#today', '#weibo', '@bsawatske', '@coronavirusflu', '@repubblica', 'campaigners', 'cuomo', 'dallas', 'poured', 'prnewswire', 'qu', 'rewatch', 'technicals', 'thirteen', '28', '41', 'admit', 'pangolins', 'gives', 'kid', 'senator', 'totalitarian', 'transmitted', 'clear', 'remain', 'activities', 'particular', '#advertising', '#angola', '#electronics', '#family', '#impeachment', '#labour', '#latinamerica', '#maps', '#nissan', '#tibetans', '#zimbabwe', '#zte', '271', '@dunvirkin', '@dusty186', '@ghoeberx', '@josephyosepha', '@kag2020', '@mamutcella', '@profwolff', '@spikedonline', '@wsws', 'afrika', 'ana', 'anguish', 'belonging', 'bullion', 'chanting', 'clorox', 'cutest', 'fines', 'fuckery', 'intending', 'manchuria', 'mistreated', 'mobilized', 'senseless', 'static', 'sympathetic', 'zhongnan', 'feed', 'quickly', 'remove', 'taxpayers', 'babi', '#mers', '#credit', 'hotpot', '@skysportspl', 'disappear', 'dbs', 'gsma', 'iphone', '900', '#saudi', 'pple', 'analytics', 'girlfriend', 'resume', 'members', 'compassion', 'flip', 'moh', '@grahamkirk17', '@spurgledurgle', '45', 'tactics', '#shanghai', '@adrdomfal', '@kalydeoo', '@nicholasrennie2', '@ogosq', '@philosophyseel', 'feared', 'jobs', 'brothers', '#whatsapp', '@janezlenarcic', '@jsharkjill', '@sarbjeetjohal', 'dans', 'diners', 'penetration', 'shun', 'subscribers', 'tarrif', 'cruel', 'tops', 'z', 'rising', 'foxconn', '#coronavirusu', '#mastercard', '#oscars', '#powell', '@bazakel', '@bettymatt1', '@john2017abc', '@realjoedick', 'adverts', 'causa', 'undergoes', 'ghost', 'sadly', '#infectious', '#kag2020', '#popefrancis', '@alibabagroup', '@jesselonnen', '@nigeriagov', 'garcia', 'hagues', 'harley', 'keeper', 'krishnan', 'piggy', 'throughput', 'undertake', '#cruises', '#diseases', '#office', '#strategy', '#zhejiang', '1959', '910', '@0sundance', '@gatesfoundation', '@ministerosalute', '@xinhuachinese', 'communicated', 'commute', 'lpga', 'musician', 'concentration', '@robin', 'countering', 'fca', 'kena', 'reservations', 'names', 'nearly', 'shocking', '#airbus', '#virology', '@acreage1', '@akwyz', '@alvinfoo', '@blackbody88', '@erikstownsend', '@fabriziobustama', '@farmingganja', '@fowlchi', '@gwlarsson', '@jagster20548365', '@kipfermile', '@pattena1', '@powerglobalus', 'aided', 'allay', 'busses', 'conviction', 'landmark', 'oscars', 'sinn', 'solitary', 'arabia', 'include', 'pull', 'general', '#copper', '#disruption', '@arewethatstupi1', '@dougieg', '@draketwgdadrea1', '@japett', '@johnsta04633925', '@leynad777', '@markcojuangco', '@no2wind', '@novakglobal', '@realsteve1234', '@saferstone', '@shesmegg82', '@tony03382773', '@tqmka', 'bikes', 'disputed', 'distinguish', 'fargo', 'manual', 'norton', 'prays', 'steroids', 'topple', 'asks', 'limit', 'shared', 'sign', 'crash', 'foreigners', '#globaleconomy', '#mobileworldcongress', '@barbarajdurkin', '@manifesto2000', '@ozhomeschool', '@reddragonfly19', '@spock246', '@tcw', 'caryn', 'compliance', 'entity', 'errors', 'inspection', 'motors', 'pit', 'rabin', 'roni', 'sas', 'twin', 'attacks', '#deaths', '#information', '#yuan', '@kctaz', '@martinbrampton', '@mvollmer1', '@techcrunch', 'bands', 'ethiopian', 'flex', 'grandchildren', 'grandmother', 'hampshire', 'install', 'mastercard', 'neil', 'notoriously', 'overdue', 'scratch', 'sheds', 'sights', 'virtue', 'yankee', 'block', 'enter', '#economy', 'dream', 'fair', 'playing', '#culture', '@medbennett', 'autocracy', 'boot', 'covfefe', 'kuo', 'mortgage', 'penis', 'rapper', 'seas', 'surrender', 'employees', 'flying', 'turned', '#hacking', '@mysterysolvent', '@roypentland', '@tesla', 'conservationists', 'crow', 'inflicted', 'intentions', 'kate', 'pub', 'traces', 'treaty', 'officially', 'pressure', '#f1', '@kthopkins', '@senatorcollins', 'aa', 'accuracy', 'alarmed', 'brighton', 'excessive', 'expats', 'ferguson', 'hesitate', 'households', 'impending', 'interestingly', 'spam', 'spends', 'tbf', 'israel', '#epidemiology', '115', 'barriers', 'bow', 'interpretation', 'kerala', 'mandate', 'menu', 'refer', 'staring', 'theorist', 'tianjin', 'youngest', 'mild', 'keeps', 'leaving', '#globalhealth', '#online', '#wuflu', '#xi', '345', '@alex', '@michael', 'busiest', 'businessman', 'confront', 'courtesy', 'hubs', 'ik', 'newborn', 'salute', 'watchers', 'dear', '#nasdaq', '#opec', '@senatemajldr', 'alongside', 'criticised', 'flaws', 'holders', 'hu', 'lad', 'meal', 'negatively', 'polluted', 'shower', 'uganda', 'calling', 'interview', '104', 'addressed', 'fearful', 'healed', 'hongkongers', 'item', 'mit', 'smooth', '#brexitday', '#coronavirusuk', 'qoq', '#missamericana', '#walls', 'ighalo', 'wirral', 'brexit', 'x', 'philippines', '@matthancock', 'coaches', 'nhs', 'phil', 'formula', 'england', 'indian', 'rescued', '#coronovirusoutbreak', '@cbbc', '@hhtv', '@mrnishkumar', '@realmatbaynton', '@dhscgovuk', 'driver', '#york', '@bbciplayer', 'rooof', 'excuse', 'cunts', 'wto', '480', '@twittermoments', '@mailonline', 'dettol', 'type', '#ncov2019', 'cow', 'thai', 'tracker', 'bus', 'dung', 'travellers', 'pretty', 'round', '@tomswarbrick1', '#indian', 'thier', '@imrankhanpti', 'son', 'humans', 'plus', 'vietnam', '@indiatvnews', 'arse', 'looks', 'tweet', 'royal', 'weaponised', 'peace', 'disgusting', 'coach', 'embarrassing', 'absolutely', 'value', 'apparently', '@profakinabayomi', 'blow', '#auspol', '#nhs', '@afneil', 'concern', '@bbcnews', 'english', 'drinking', 'FALSE', 'reason', '@lbc', '328', 'villa', '83', 'wipe', 'thailand', 'thrown', 'hunan', 'lax', 'signing', 'dirty', 'sorry', '@hamidmirpak', 'diarrhoea', 'elbows', 'flags', 'khan', 'urine', 'haven', 'campus', 'cos', 'banning', 'blocks', 'looking', 'tourism', 'folk', '@updayuk', 'accommodation', 'evacuees', 'argument', 'tower', 'foot', 'broadcast', '#scicomm', 'race', 'water', 'car', 'published', 'brought', 'campaign', 'memes', '@phe', 'assure', 'tslaq', 'obviously', 'seriously', 'bucket', 'negotiating', 'fans', 'b', 'bed', 'disagree', 'packages', 'piss', 'invent', '#featuredstories', '#newsdaily', '#newsdesk', '#newsfeed', '@agirlcalledlina', 'fiweh', 'quite', 'dont', 'sky', 'paedophile', 'elizabeth', '#bahcesaray', '@famous9', '#pegasus', 'sentence', 'nazi', 'vlogs', 'prove', 'wanna', 'hell', 'curated', 'johnson', 'iam', 'pods', 'boris', '#corononavirus', 'catch', '#loveisland', 'manchester', 'keynes', 'child', 'figures', 'message', 'higher', 'milton', 'breakthrough', '#firstamendment', '1970s', 'contagious', '#audio', 'try', 'misinformation', 'wouldn', '#1a', 'caught', 'learn', 'sent', '#coronanavirus', 'tariffs', 'shortcomings', 'final', 'visit', 'labour', 'shanghai', 'telling', 'talk', 'hits', 'suspected', 'stanley', 'raab', 'gov', 'sell', 'december', 'heard', 'surely', 'chalet', 'town', 'odion', 'uncovering', '#money', '@jeremycorbyn', 'speed', 'talks', '#hs2', 'construction', 'self', 'railway', 'surgery', 'mp', '@skynews', 'lewisham', 'tory', 'heathrow', '@telegraph', 'rail', 'mps', 'jcb', 'cambridge', 'sobel', 'transport', '111', 'westminster', 'scotland', '@xr', '@financialtimes', '#london', 'dentists', '#covid19uk', 'avoid', '#coronaviruslondon', 'attendees', 'corbyn', 'tube', 'practice', 'west', 'jeremy', 'released', 'online', '@channel4news', 'trust', '#brighton', 'share', 'notes', 'offer', '@nhsuk', 'alli', 'infrastructure', 'criticise', 'gets', 'stuff', 'offers', 'loyals', 'niger', 'vii', 'verify', '#coronavirustruth', 'terms', 'george', 'king', 'turkey', 'camps', '#ncyt', 'ruling', '#bestdj', '#djbobbipartymachineradio', 'abel', '#stopthespread', 'jaguar', 'parts', 'land', 'david', 'detained', 'sally', '#radio', 'endings', 'flown', 'following', '#animalstohumans', 'centre', 'rover', 'toilet', 'lovie', 'return', '#hiv', 'suitcases', 'climate', 'uighurs', 'continues', 'internet', 'rolls', 'products', 'half', 'beards', 'supplies', 'crime', 'ireland', 'pupils', 'trip', 'hancock', 'guests', 'wharf', 'ski', 'nations', 'ftse', '@satankmkr', 'concerned', '@gmb', 'deputy', 'adeje', 'v', 'paid', 'primark', 'events', 'press', 'gold', 'matt', 'parents']\n"
          ]
        }
      ]
    },
    {
      "cell_type": "markdown",
      "metadata": {
        "id": "ulFsQ2eLhPvI"
      },
      "source": [
        "**9. Extract features using Count Vectorizer from train and test data**"
      ]
    },
    {
      "cell_type": "code",
      "metadata": {
        "id": "01nMKLijqXcU"
      },
      "source": [
        "#vectorizer = CountVectorizer(token_pattern=r'\\b\\w+\\b')\n",
        "vectorizer = CountVectorizer(ngram_range=(n_gram_min, n_gram_max), # to use bigrams ngram_range=(2,2)\n",
        "                           lowercase = True ,stop_words='english')\n",
        "train_matrix = vectorizer.fit_transform(train['text'])\n",
        "test_matrix = vectorizer.transform(test['text'])"
      ],
      "execution_count": null,
      "outputs": []
    },
    {
      "cell_type": "markdown",
      "metadata": {
        "id": "y2rUuMH2lEsf"
      },
      "source": [
        "**9.1. Extract features using TF-IDF Vectorizer from train and test data**"
      ]
    },
    {
      "cell_type": "code",
      "metadata": {
        "id": "6WFn16JQlP48"
      },
      "source": [
        "#vectorizer = CountVectorizer(token_pattern=r'\\b\\w+\\b')\n",
        "vectorizer = TfidfVectorizer(ngram_range=(n_gram_min, n_gram_max), # to use bigrams ngram_range=(2,2)\n",
        "                           lowercase = True ,stop_words='english')\n",
        "train_matrix = vectorizer.fit_transform(train['text'])\n",
        "test_matrix = vectorizer.transform(test['text'])"
      ],
      "execution_count": null,
      "outputs": []
    },
    {
      "cell_type": "markdown",
      "metadata": {
        "id": "desy8eT-hifA"
      },
      "source": [
        "**10. Create logistic regression model with default hyper parameters**"
      ]
    },
    {
      "cell_type": "code",
      "metadata": {
        "id": "AkdLI7Lyqk6E"
      },
      "source": [
        "lr = LogisticRegression()"
      ],
      "execution_count": null,
      "outputs": []
    },
    {
      "cell_type": "markdown",
      "metadata": {
        "id": "8XrRIu1EhygZ"
      },
      "source": [
        "**11. Assign train and test data to the model**"
      ]
    },
    {
      "cell_type": "code",
      "metadata": {
        "id": "6Mx-h7gFqq0L"
      },
      "source": [
        "X_train = train_matrix\n",
        "X_test = test_matrix\n",
        "y_train = train['target']\n",
        "y_test = test['target']"
      ],
      "execution_count": null,
      "outputs": []
    },
    {
      "cell_type": "markdown",
      "metadata": {
        "id": "TdF1KygFh4GD"
      },
      "source": [
        "**12. Fit train and test data**"
      ]
    },
    {
      "cell_type": "code",
      "metadata": {
        "colab": {
          "base_uri": "https://localhost:8080/"
        },
        "id": "QHjjOB3CqzDi",
        "outputId": "4c73814f-69ce-476b-e1ea-097fda15dd62"
      },
      "source": [
        "lr.fit(X_train,y_train)"
      ],
      "execution_count": null,
      "outputs": [
        {
          "output_type": "stream",
          "name": "stderr",
          "text": [
            "/usr/local/lib/python3.7/dist-packages/sklearn/linear_model/_logistic.py:940: ConvergenceWarning: lbfgs failed to converge (status=1):\n",
            "STOP: TOTAL NO. of ITERATIONS REACHED LIMIT.\n",
            "\n",
            "Increase the number of iterations (max_iter) or scale the data as shown in:\n",
            "    https://scikit-learn.org/stable/modules/preprocessing.html\n",
            "Please also refer to the documentation for alternative solver options:\n",
            "    https://scikit-learn.org/stable/modules/linear_model.html#logistic-regression\n",
            "  extra_warning_msg=_LOGISTIC_SOLVER_CONVERGENCE_MSG)\n"
          ]
        },
        {
          "output_type": "execute_result",
          "data": {
            "text/plain": [
              "LogisticRegression(C=1.0, class_weight=None, dual=False, fit_intercept=True,\n",
              "                   intercept_scaling=1, l1_ratio=None, max_iter=100,\n",
              "                   multi_class='auto', n_jobs=None, penalty='l2',\n",
              "                   random_state=None, solver='lbfgs', tol=0.0001, verbose=0,\n",
              "                   warm_start=False)"
            ]
          },
          "metadata": {},
          "execution_count": 56
        }
      ]
    },
    {
      "cell_type": "markdown",
      "metadata": {
        "id": "UWXAfXvz20HF"
      },
      "source": [
        "**12.1- Save Logistic regression model**"
      ]
    },
    {
      "cell_type": "code",
      "metadata": {
        "id": "AgRnTF4v2y4h"
      },
      "source": [
        "#pickle.dump(lr, open(\"/content/gdrive/MyDrive/Colab Notebooks/datasets/logistic_regression_CV.sav\", 'wb'))\n",
        "pickle.dump(lr, open(\"/content/gdrive/MyDrive/Colab Notebooks/datasets/logistic_regression_TFIDFV.sav\", 'wb'))"
      ],
      "execution_count": null,
      "outputs": []
    },
    {
      "cell_type": "markdown",
      "metadata": {
        "id": "yLrQXHsw45Kg"
      },
      "source": [
        "**12.2- Load Logistic regression model**"
      ]
    },
    {
      "cell_type": "code",
      "metadata": {
        "id": "QtAvaIWO4t0E"
      },
      "source": [
        "lr = pickle.load(open(\"/content/gdrive/MyDrive/Colab Notebooks/datasets/logistic_regression_CV.sav\", 'rb'))\n",
        "#lr = pickle.load(open(\"/content/gdrive/MyDrive/Colab Notebooks/datasets/logistic_regression_TFIDFV.sav\", 'rb'))"
      ],
      "execution_count": null,
      "outputs": []
    },
    {
      "cell_type": "markdown",
      "metadata": {
        "id": "yL8_2zMviCUi"
      },
      "source": [
        "**13. Check the prediction of model using test data**"
      ]
    },
    {
      "cell_type": "code",
      "metadata": {
        "id": "08QmuXahq-U7"
      },
      "source": [
        "#print (X_test)\n",
        "\n",
        "predictions = lr.predict(X_test)"
      ],
      "execution_count": null,
      "outputs": []
    },
    {
      "cell_type": "markdown",
      "metadata": {
        "id": "YGStdIhXiNHA"
      },
      "source": [
        "**14. Print confusion matrix for logistic regression model**\n",
        "\n",
        "\n"
      ]
    },
    {
      "cell_type": "code",
      "metadata": {
        "colab": {
          "base_uri": "https://localhost:8080/"
        },
        "id": "DG66aImrrCH4",
        "outputId": "238b064a-b38f-4f83-b5d8-0fff10b3528f"
      },
      "source": [
        "# find accuracy, precision, recall:\n",
        "from sklearn.metrics import confusion_matrix,classification_report\n",
        "new = np.asarray(y_test)\n",
        "confusion_matrix(predictions,y_test)"
      ],
      "execution_count": null,
      "outputs": [
        {
          "output_type": "execute_result",
          "data": {
            "text/plain": [
              "array([[48466, 18753],\n",
              "       [31346, 61435]])"
            ]
          },
          "metadata": {},
          "execution_count": 58
        }
      ]
    },
    {
      "cell_type": "markdown",
      "metadata": {
        "id": "PU6gBU5Tie-E"
      },
      "source": [
        "**15. Evaluate regression model for sentiment analysis with precision, recall, accuracy and F-Score**"
      ]
    },
    {
      "cell_type": "code",
      "metadata": {
        "colab": {
          "base_uri": "https://localhost:8080/"
        },
        "id": "eYBvVizArO0z",
        "outputId": "af0bd02c-d754-45e3-ad0f-a2bf0cf29c77"
      },
      "source": [
        "print(classification_report(predictions,y_test))"
      ],
      "execution_count": null,
      "outputs": [
        {
          "output_type": "stream",
          "name": "stdout",
          "text": [
            "              precision    recall  f1-score   support\n",
            "\n",
            "           0       0.61      0.72      0.66     67219\n",
            "           4       0.77      0.66      0.71     92781\n",
            "\n",
            "    accuracy                           0.69    160000\n",
            "   macro avg       0.69      0.69      0.68    160000\n",
            "weighted avg       0.70      0.69      0.69    160000\n",
            "\n"
          ]
        }
      ]
    },
    {
      "cell_type": "markdown",
      "metadata": {
        "id": "IU1xz9DhmL15"
      },
      "source": [
        "## Support vector machine Algorithm"
      ]
    },
    {
      "cell_type": "markdown",
      "metadata": {
        "id": "C4RtSDijmSpp"
      },
      "source": [
        "**1. Create SVC Model**"
      ]
    },
    {
      "cell_type": "code",
      "metadata": {
        "id": "32uD8P11mK_c"
      },
      "source": [
        "clf = make_pipeline(StandardScaler(with_mean=False), LinearSVC())"
      ],
      "execution_count": null,
      "outputs": []
    },
    {
      "cell_type": "markdown",
      "metadata": {
        "id": "_9BU_MpFnpFl"
      },
      "source": [
        "**2. Train SVC Model**"
      ]
    },
    {
      "cell_type": "code",
      "metadata": {
        "id": "bOmG8YKvnmgJ",
        "colab": {
          "base_uri": "https://localhost:8080/"
        },
        "outputId": "6f097599-3b51-4de9-f5f5-3239380ab307"
      },
      "source": [
        "# Train the model on training data\n",
        "#rf.fit(X_train, y_train)\n",
        "clf.fit(X_train, y_train)\n",
        "#Pipeline(steps=[('standardscaler', StandardScaler(with_mean=False)),\n",
        "#                ('svc', LinearSVC())])"
      ],
      "execution_count": null,
      "outputs": [
        {
          "output_type": "stream",
          "name": "stderr",
          "text": [
            "/usr/local/lib/python3.7/dist-packages/sklearn/svm/_base.py:947: ConvergenceWarning: Liblinear failed to converge, increase the number of iterations.\n",
            "  \"the number of iterations.\", ConvergenceWarning)\n"
          ]
        },
        {
          "output_type": "execute_result",
          "data": {
            "text/plain": [
              "Pipeline(memory=None,\n",
              "         steps=[('standardscaler',\n",
              "                 StandardScaler(copy=True, with_mean=False, with_std=True)),\n",
              "                ('linearsvc',\n",
              "                 LinearSVC(C=1.0, class_weight=None, dual=True,\n",
              "                           fit_intercept=True, intercept_scaling=1,\n",
              "                           loss='squared_hinge', max_iter=1000,\n",
              "                           multi_class='ovr', penalty='l2', random_state=None,\n",
              "                           tol=0.0001, verbose=0))],\n",
              "         verbose=False)"
            ]
          },
          "metadata": {},
          "execution_count": 133
        }
      ]
    },
    {
      "cell_type": "markdown",
      "metadata": {
        "id": "AYYySP455oV3"
      },
      "source": [
        "**3.1. Save SVC Model**"
      ]
    },
    {
      "cell_type": "code",
      "metadata": {
        "id": "-TrJrtzx5jVJ"
      },
      "source": [
        "#pickle.dump(clf, open(\"/content/gdrive/MyDrive/Colab Notebooks/datasets/countvectorizer_svc.sav\", 'wb'))\n",
        "pickle.dump(clf, open(\"/content/gdrive/MyDrive/Colab Notebooks/datasets/tfidfvectorizer_svc.sav\", 'wb'))"
      ],
      "execution_count": null,
      "outputs": []
    },
    {
      "cell_type": "markdown",
      "metadata": {
        "id": "5qK5xYm-5LEF"
      },
      "source": [
        "**3.2. Load SVC Model**"
      ]
    },
    {
      "cell_type": "code",
      "metadata": {
        "id": "2BqhaxAk5Kbq"
      },
      "source": [
        "clf = pickle.load(open(\"/content/gdrive/MyDrive/Colab Notebooks/datasets/countvectorizer_svc.sav\", 'rb'))\n",
        "#clf = pickle.load(open(\"/content/gdrive/MyDrive/Colab Notebooks/datasets/tfidfvectorizer_svc.sav\", 'rb'))"
      ],
      "execution_count": null,
      "outputs": []
    },
    {
      "cell_type": "markdown",
      "metadata": {
        "id": "DYqYDnBgoPjA"
      },
      "source": [
        "**3. Check the prediction of model using test data**"
      ]
    },
    {
      "cell_type": "code",
      "metadata": {
        "id": "0HpIcrH0oIuK"
      },
      "source": [
        "#print (X_test)\n",
        "predictions = clf.predict(X_test)"
      ],
      "execution_count": null,
      "outputs": []
    },
    {
      "cell_type": "markdown",
      "metadata": {
        "id": "KRSY_FS4omCK"
      },
      "source": [
        "**4. Print confusion matrix for SVC model**"
      ]
    },
    {
      "cell_type": "code",
      "metadata": {
        "id": "OvhbgkjaoTao",
        "colab": {
          "base_uri": "https://localhost:8080/"
        },
        "outputId": "abe318bb-fedb-42fb-e3bd-326ee698c5b3"
      },
      "source": [
        "# find accuracy, precision, recall:\n",
        "from sklearn.metrics import confusion_matrix,classification_report\n",
        "new = np.asarray(y_test)\n",
        "confusion_matrix(predictions,y_test)"
      ],
      "execution_count": null,
      "outputs": [
        {
          "output_type": "execute_result",
          "data": {
            "text/plain": [
              "array([[46668, 23668],\n",
              "       [33144, 56520]])"
            ]
          },
          "metadata": {},
          "execution_count": 135
        }
      ]
    },
    {
      "cell_type": "markdown",
      "metadata": {
        "id": "beSy3tnCo7ZL"
      },
      "source": [
        "**5. Evaluate SVC model for sentiment analysis with precision, recall, accuracy and F-Score**"
      ]
    },
    {
      "cell_type": "code",
      "metadata": {
        "id": "DQ1dp3xyouuX",
        "colab": {
          "base_uri": "https://localhost:8080/"
        },
        "outputId": "714c8e63-05d3-4c3e-8c2f-8c939f0cc195"
      },
      "source": [
        "print(classification_report(predictions,y_test))"
      ],
      "execution_count": null,
      "outputs": [
        {
          "output_type": "stream",
          "name": "stdout",
          "text": [
            "              precision    recall  f1-score   support\n",
            "\n",
            "           0       0.58      0.66      0.62     70336\n",
            "           4       0.70      0.63      0.67     89664\n",
            "\n",
            "    accuracy                           0.64    160000\n",
            "   macro avg       0.64      0.65      0.64    160000\n",
            "weighted avg       0.65      0.64      0.65    160000\n",
            "\n"
          ]
        }
      ]
    },
    {
      "cell_type": "markdown",
      "metadata": {
        "id": "QnUqkoY4d7ts"
      },
      "source": [
        "**1. Create Random Forest Classifier and train it**"
      ]
    },
    {
      "cell_type": "code",
      "metadata": {
        "id": "JdexIOiBd7O-"
      },
      "source": [
        "rfc = RandomForestClassifier(n_estimators=100, random_state=42)\n",
        "rfc.fit(X_train, y_train)"
      ],
      "execution_count": null,
      "outputs": []
    },
    {
      "cell_type": "markdown",
      "metadata": {
        "id": "XCDl9Y_ZeUh3"
      },
      "source": [
        "**2. Predict through random forest classifier**"
      ]
    },
    {
      "cell_type": "code",
      "metadata": {
        "id": "zT8EnrsPeTLz"
      },
      "source": [
        "y_pred = rfc.predict(X_test)"
      ],
      "execution_count": null,
      "outputs": []
    },
    {
      "cell_type": "markdown",
      "metadata": {
        "id": "x-2V2AXjfDsA"
      },
      "source": [
        "**3. Print confusion matrix for Random forest model**"
      ]
    },
    {
      "cell_type": "code",
      "metadata": {
        "id": "6vJsPbQBeu0M"
      },
      "source": [
        "from sklearn.metrics import confusion_matrix,classification_report\n",
        "new = np.asarray(y_test)\n",
        "confusion_matrix(y_pred,y_test)"
      ],
      "execution_count": null,
      "outputs": []
    },
    {
      "cell_type": "markdown",
      "metadata": {
        "id": "tk54BjIKfcie"
      },
      "source": [
        "**4. Evaluate SVC model for sentiment analysis with precision, recall, accuracy and F-Score**"
      ]
    },
    {
      "cell_type": "code",
      "metadata": {
        "id": "CLyA2NCRfGz0"
      },
      "source": [
        "print(classification_report(y_pred,y_test))"
      ],
      "execution_count": null,
      "outputs": []
    },
    {
      "cell_type": "markdown",
      "metadata": {
        "id": "vD_BqlNF8-NW"
      },
      "source": [
        "# Loading Prediction dataset"
      ]
    },
    {
      "cell_type": "code",
      "metadata": {
        "colab": {
          "base_uri": "https://localhost:8080/",
          "height": 425
        },
        "id": "O8jaMU6C89Yy",
        "outputId": "3a86d96b-2453-4d6d-819a-3ad547a2512e"
      },
      "source": [
        "re_df = pd.read_csv('/content/gdrive/MyDrive/Colab Notebooks/datasets/extracted_geocoded_tweets.csv', encoding='latin1')\n",
        "print(\"Shape of df:\",re_df.shape)\n",
        "#print(\"Counts:\\n\",re_df.sentiment.value_counts())\n",
        "re_df.head(10)"
      ],
      "execution_count": 5,
      "outputs": [
        {
          "output_type": "stream",
          "name": "stdout",
          "text": [
            "Shape of df: (165538, 6)\n"
          ]
        },
        {
          "output_type": "execute_result",
          "data": {
            "text/plain": [
              "                  location                        date           country  \\\n",
              "0    -1.9643961, 52.505005  '2020-02-12T22:56:31.000Z'  'United Kingdom'   \n",
              "1    -0.0736289, 53.567738  '2020-02-12T22:56:25.000Z'  'United Kingdom'   \n",
              "2      -4.114052, 56.78611  '2020-02-12T22:56:15.000Z'  'United Kingdom'   \n",
              "3  -0.116588406, 51.514427  '2020-02-12T22:56:49.000Z'  'United Kingdom'   \n",
              "4     12.674297, 42.638428  '2020-02-12T22:56:52.000Z'           'Italy'   \n",
              "5     -0.1276474, 51.50732  '2020-02-12T22:56:56.000Z'  'United Kingdom'   \n",
              "6     -0.2427336, 52.57258  '2020-02-12T22:57:15.000Z'  'United Kingdom'   \n",
              "7     -2.2451148, 53.47949  '2020-02-12T22:57:04.000Z'  'United Kingdom'   \n",
              "8     -0.5402403, 52.79548  '2020-02-12T22:57:05.000Z'  'United Kingdom'   \n",
              "9     -0.1276474, 51.50732  '2020-02-12T22:57:45.000Z'  'United Kingdom'   \n",
              "\n",
              "                                                text  \\\n",
              "0  '@AlexeiDankevich @V2019N Apparently thatâs ...   \n",
              "1  'This should be the official butial of United ...   \n",
              "2  'You could NOT MAKE THIS SHIT UP. Did they not...   \n",
              "3  'Tesla Autopilot Gracefully Avoids Road Obstru...   \n",
              "4  'Ing.Gironi Will MWC 2020 be canceled over cor...   \n",
              "5     'Banchester United ey https://t.co/NBtf0uWXwW'   \n",
              "6  'No fucking way ð­ð­ð­ð­ https://t.co/...   \n",
              "7  'Trending: Odion Ighalo âBANNED from Manches...   \n",
              "8  'Wait so itâs more than Ighalo? ð­ð­ð­...   \n",
              "9  '@PatersonLou its not easy as then all countri...   \n",
              "\n",
              "                         created_at                   id  \n",
              "0  'Wed Feb 12 22:56:31 +0000 2020'  1227728215717928961  \n",
              "1  'Wed Feb 12 22:56:25 +0000 2020'  1227728189134381056  \n",
              "2  'Wed Feb 12 22:56:15 +0000 2020'  1227728149221380098  \n",
              "3  'Wed Feb 12 22:56:49 +0000 2020'  1227728293543104512  \n",
              "4  'Wed Feb 12 22:56:52 +0000 2020'  1227728304976859137  \n",
              "5  'Wed Feb 12 22:56:56 +0000 2020'  1227728322915917824  \n",
              "6  'Wed Feb 12 22:57:15 +0000 2020'  1227728399743045632  \n",
              "7  'Wed Feb 12 22:57:04 +0000 2020'  1227728355824410627  \n",
              "8  'Wed Feb 12 22:57:05 +0000 2020'  1227728360475897856  \n",
              "9  'Wed Feb 12 22:57:45 +0000 2020'  1227728528231235586  "
            ],
            "text/html": [
              "\n",
              "\n",
              "  <div id=\"df-1879787d-75cb-464d-90aa-a73459b79e96\">\n",
              "    <div class=\"colab-df-container\">\n",
              "      <div>\n",
              "<style scoped>\n",
              "    .dataframe tbody tr th:only-of-type {\n",
              "        vertical-align: middle;\n",
              "    }\n",
              "\n",
              "    .dataframe tbody tr th {\n",
              "        vertical-align: top;\n",
              "    }\n",
              "\n",
              "    .dataframe thead th {\n",
              "        text-align: right;\n",
              "    }\n",
              "</style>\n",
              "<table border=\"1\" class=\"dataframe\">\n",
              "  <thead>\n",
              "    <tr style=\"text-align: right;\">\n",
              "      <th></th>\n",
              "      <th>location</th>\n",
              "      <th>date</th>\n",
              "      <th>country</th>\n",
              "      <th>text</th>\n",
              "      <th>created_at</th>\n",
              "      <th>id</th>\n",
              "    </tr>\n",
              "  </thead>\n",
              "  <tbody>\n",
              "    <tr>\n",
              "      <th>0</th>\n",
              "      <td>-1.9643961, 52.505005</td>\n",
              "      <td>'2020-02-12T22:56:31.000Z'</td>\n",
              "      <td>'United Kingdom'</td>\n",
              "      <td>'@AlexeiDankevich @V2019N Apparently thatâs ...</td>\n",
              "      <td>'Wed Feb 12 22:56:31 +0000 2020'</td>\n",
              "      <td>1227728215717928961</td>\n",
              "    </tr>\n",
              "    <tr>\n",
              "      <th>1</th>\n",
              "      <td>-0.0736289, 53.567738</td>\n",
              "      <td>'2020-02-12T22:56:25.000Z'</td>\n",
              "      <td>'United Kingdom'</td>\n",
              "      <td>'This should be the official butial of United ...</td>\n",
              "      <td>'Wed Feb 12 22:56:25 +0000 2020'</td>\n",
              "      <td>1227728189134381056</td>\n",
              "    </tr>\n",
              "    <tr>\n",
              "      <th>2</th>\n",
              "      <td>-4.114052, 56.78611</td>\n",
              "      <td>'2020-02-12T22:56:15.000Z'</td>\n",
              "      <td>'United Kingdom'</td>\n",
              "      <td>'You could NOT MAKE THIS SHIT UP. Did they not...</td>\n",
              "      <td>'Wed Feb 12 22:56:15 +0000 2020'</td>\n",
              "      <td>1227728149221380098</td>\n",
              "    </tr>\n",
              "    <tr>\n",
              "      <th>3</th>\n",
              "      <td>-0.116588406, 51.514427</td>\n",
              "      <td>'2020-02-12T22:56:49.000Z'</td>\n",
              "      <td>'United Kingdom'</td>\n",
              "      <td>'Tesla Autopilot Gracefully Avoids Road Obstru...</td>\n",
              "      <td>'Wed Feb 12 22:56:49 +0000 2020'</td>\n",
              "      <td>1227728293543104512</td>\n",
              "    </tr>\n",
              "    <tr>\n",
              "      <th>4</th>\n",
              "      <td>12.674297, 42.638428</td>\n",
              "      <td>'2020-02-12T22:56:52.000Z'</td>\n",
              "      <td>'Italy'</td>\n",
              "      <td>'Ing.Gironi Will MWC 2020 be canceled over cor...</td>\n",
              "      <td>'Wed Feb 12 22:56:52 +0000 2020'</td>\n",
              "      <td>1227728304976859137</td>\n",
              "    </tr>\n",
              "    <tr>\n",
              "      <th>5</th>\n",
              "      <td>-0.1276474, 51.50732</td>\n",
              "      <td>'2020-02-12T22:56:56.000Z'</td>\n",
              "      <td>'United Kingdom'</td>\n",
              "      <td>'Banchester United ey https://t.co/NBtf0uWXwW'</td>\n",
              "      <td>'Wed Feb 12 22:56:56 +0000 2020'</td>\n",
              "      <td>1227728322915917824</td>\n",
              "    </tr>\n",
              "    <tr>\n",
              "      <th>6</th>\n",
              "      <td>-0.2427336, 52.57258</td>\n",
              "      <td>'2020-02-12T22:57:15.000Z'</td>\n",
              "      <td>'United Kingdom'</td>\n",
              "      <td>'No fucking way ð­ð­ð­ð­ https://t.co/...</td>\n",
              "      <td>'Wed Feb 12 22:57:15 +0000 2020'</td>\n",
              "      <td>1227728399743045632</td>\n",
              "    </tr>\n",
              "    <tr>\n",
              "      <th>7</th>\n",
              "      <td>-2.2451148, 53.47949</td>\n",
              "      <td>'2020-02-12T22:57:04.000Z'</td>\n",
              "      <td>'United Kingdom'</td>\n",
              "      <td>'Trending: Odion Ighalo âBANNED from Manches...</td>\n",
              "      <td>'Wed Feb 12 22:57:04 +0000 2020'</td>\n",
              "      <td>1227728355824410627</td>\n",
              "    </tr>\n",
              "    <tr>\n",
              "      <th>8</th>\n",
              "      <td>-0.5402403, 52.79548</td>\n",
              "      <td>'2020-02-12T22:57:05.000Z'</td>\n",
              "      <td>'United Kingdom'</td>\n",
              "      <td>'Wait so itâs more than Ighalo? ð­ð­ð­...</td>\n",
              "      <td>'Wed Feb 12 22:57:05 +0000 2020'</td>\n",
              "      <td>1227728360475897856</td>\n",
              "    </tr>\n",
              "    <tr>\n",
              "      <th>9</th>\n",
              "      <td>-0.1276474, 51.50732</td>\n",
              "      <td>'2020-02-12T22:57:45.000Z'</td>\n",
              "      <td>'United Kingdom'</td>\n",
              "      <td>'@PatersonLou its not easy as then all countri...</td>\n",
              "      <td>'Wed Feb 12 22:57:45 +0000 2020'</td>\n",
              "      <td>1227728528231235586</td>\n",
              "    </tr>\n",
              "  </tbody>\n",
              "</table>\n",
              "</div>\n",
              "      <button class=\"colab-df-convert\" onclick=\"convertToInteractive('df-1879787d-75cb-464d-90aa-a73459b79e96')\"\n",
              "              title=\"Convert this dataframe to an interactive table.\"\n",
              "              style=\"display:none;\">\n",
              "\n",
              "  <svg xmlns=\"http://www.w3.org/2000/svg\" height=\"24px\"viewBox=\"0 0 24 24\"\n",
              "       width=\"24px\">\n",
              "    <path d=\"M0 0h24v24H0V0z\" fill=\"none\"/>\n",
              "    <path d=\"M18.56 5.44l.94 2.06.94-2.06 2.06-.94-2.06-.94-.94-2.06-.94 2.06-2.06.94zm-11 1L8.5 8.5l.94-2.06 2.06-.94-2.06-.94L8.5 2.5l-.94 2.06-2.06.94zm10 10l.94 2.06.94-2.06 2.06-.94-2.06-.94-.94-2.06-.94 2.06-2.06.94z\"/><path d=\"M17.41 7.96l-1.37-1.37c-.4-.4-.92-.59-1.43-.59-.52 0-1.04.2-1.43.59L10.3 9.45l-7.72 7.72c-.78.78-.78 2.05 0 2.83L4 21.41c.39.39.9.59 1.41.59.51 0 1.02-.2 1.41-.59l7.78-7.78 2.81-2.81c.8-.78.8-2.07 0-2.86zM5.41 20L4 18.59l7.72-7.72 1.47 1.35L5.41 20z\"/>\n",
              "  </svg>\n",
              "      </button>\n",
              "\n",
              "\n",
              "\n",
              "    <div id=\"df-924f2c77-d561-44e3-94d1-0d467517b80c\">\n",
              "      <button class=\"colab-df-quickchart\" onclick=\"quickchart('df-924f2c77-d561-44e3-94d1-0d467517b80c')\"\n",
              "              title=\"Suggest charts.\"\n",
              "              style=\"display:none;\">\n",
              "\n",
              "<svg xmlns=\"http://www.w3.org/2000/svg\" height=\"24px\"viewBox=\"0 0 24 24\"\n",
              "     width=\"24px\">\n",
              "    <g>\n",
              "        <path d=\"M19 3H5c-1.1 0-2 .9-2 2v14c0 1.1.9 2 2 2h14c1.1 0 2-.9 2-2V5c0-1.1-.9-2-2-2zM9 17H7v-7h2v7zm4 0h-2V7h2v10zm4 0h-2v-4h2v4z\"/>\n",
              "    </g>\n",
              "</svg>\n",
              "      </button>\n",
              "    </div>\n",
              "\n",
              "<style>\n",
              "  .colab-df-quickchart {\n",
              "    background-color: #E8F0FE;\n",
              "    border: none;\n",
              "    border-radius: 50%;\n",
              "    cursor: pointer;\n",
              "    display: none;\n",
              "    fill: #1967D2;\n",
              "    height: 32px;\n",
              "    padding: 0 0 0 0;\n",
              "    width: 32px;\n",
              "  }\n",
              "\n",
              "  .colab-df-quickchart:hover {\n",
              "    background-color: #E2EBFA;\n",
              "    box-shadow: 0px 1px 2px rgba(60, 64, 67, 0.3), 0px 1px 3px 1px rgba(60, 64, 67, 0.15);\n",
              "    fill: #174EA6;\n",
              "  }\n",
              "\n",
              "  [theme=dark] .colab-df-quickchart {\n",
              "    background-color: #3B4455;\n",
              "    fill: #D2E3FC;\n",
              "  }\n",
              "\n",
              "  [theme=dark] .colab-df-quickchart:hover {\n",
              "    background-color: #434B5C;\n",
              "    box-shadow: 0px 1px 3px 1px rgba(0, 0, 0, 0.15);\n",
              "    filter: drop-shadow(0px 1px 2px rgba(0, 0, 0, 0.3));\n",
              "    fill: #FFFFFF;\n",
              "  }\n",
              "</style>\n",
              "\n",
              "    <script>\n",
              "      async function quickchart(key) {\n",
              "        const containerElement = document.querySelector('#' + key);\n",
              "        const charts = await google.colab.kernel.invokeFunction(\n",
              "            'suggestCharts', [key], {});\n",
              "      }\n",
              "    </script>\n",
              "\n",
              "      <script>\n",
              "\n",
              "function displayQuickchartButton(domScope) {\n",
              "  let quickchartButtonEl =\n",
              "    domScope.querySelector('#df-924f2c77-d561-44e3-94d1-0d467517b80c button.colab-df-quickchart');\n",
              "  quickchartButtonEl.style.display =\n",
              "    google.colab.kernel.accessAllowed ? 'block' : 'none';\n",
              "}\n",
              "\n",
              "        displayQuickchartButton(document);\n",
              "      </script>\n",
              "      <style>\n",
              "    .colab-df-container {\n",
              "      display:flex;\n",
              "      flex-wrap:wrap;\n",
              "      gap: 12px;\n",
              "    }\n",
              "\n",
              "    .colab-df-convert {\n",
              "      background-color: #E8F0FE;\n",
              "      border: none;\n",
              "      border-radius: 50%;\n",
              "      cursor: pointer;\n",
              "      display: none;\n",
              "      fill: #1967D2;\n",
              "      height: 32px;\n",
              "      padding: 0 0 0 0;\n",
              "      width: 32px;\n",
              "    }\n",
              "\n",
              "    .colab-df-convert:hover {\n",
              "      background-color: #E2EBFA;\n",
              "      box-shadow: 0px 1px 2px rgba(60, 64, 67, 0.3), 0px 1px 3px 1px rgba(60, 64, 67, 0.15);\n",
              "      fill: #174EA6;\n",
              "    }\n",
              "\n",
              "    [theme=dark] .colab-df-convert {\n",
              "      background-color: #3B4455;\n",
              "      fill: #D2E3FC;\n",
              "    }\n",
              "\n",
              "    [theme=dark] .colab-df-convert:hover {\n",
              "      background-color: #434B5C;\n",
              "      box-shadow: 0px 1px 3px 1px rgba(0, 0, 0, 0.15);\n",
              "      filter: drop-shadow(0px 1px 2px rgba(0, 0, 0, 0.3));\n",
              "      fill: #FFFFFF;\n",
              "    }\n",
              "  </style>\n",
              "\n",
              "      <script>\n",
              "        const buttonEl =\n",
              "          document.querySelector('#df-1879787d-75cb-464d-90aa-a73459b79e96 button.colab-df-convert');\n",
              "        buttonEl.style.display =\n",
              "          google.colab.kernel.accessAllowed ? 'block' : 'none';\n",
              "\n",
              "        async function convertToInteractive(key) {\n",
              "          const element = document.querySelector('#df-1879787d-75cb-464d-90aa-a73459b79e96');\n",
              "          const dataTable =\n",
              "            await google.colab.kernel.invokeFunction('convertToInteractive',\n",
              "                                                     [key], {});\n",
              "          if (!dataTable) return;\n",
              "\n",
              "          const docLinkHtml = 'Like what you see? Visit the ' +\n",
              "            '<a target=\"_blank\" href=https://colab.research.google.com/notebooks/data_table.ipynb>data table notebook</a>'\n",
              "            + ' to learn more about interactive tables.';\n",
              "          element.innerHTML = '';\n",
              "          dataTable['output_type'] = 'display_data';\n",
              "          await google.colab.output.renderOutput(dataTable, element);\n",
              "          const docLink = document.createElement('div');\n",
              "          docLink.innerHTML = docLinkHtml;\n",
              "          element.appendChild(docLink);\n",
              "        }\n",
              "      </script>\n",
              "    </div>\n",
              "  </div>\n"
            ]
          },
          "metadata": {},
          "execution_count": 5
        }
      ]
    },
    {
      "cell_type": "markdown",
      "source": [
        "# Plot histogram of the length of tweets in Prediction Dataset"
      ],
      "metadata": {
        "id": "tu93BWUsp8wm"
      }
    },
    {
      "cell_type": "code",
      "source": [
        "plt.hist(re_df.text.str.len(),color='yellow',bins=20,label='Tweets')\n",
        "plt.legend()\n",
        "plt.xlabel('length of tweets')\n",
        "plt.ylabel('number of tweets')\n",
        "plt.show()"
      ],
      "metadata": {
        "colab": {
          "base_uri": "https://localhost:8080/",
          "height": 449
        },
        "id": "Ct5Y0qMvpsmQ",
        "outputId": "8614e4e6-bcf3-4225-ada3-3cb255a9b1be"
      },
      "execution_count": 6,
      "outputs": [
        {
          "output_type": "display_data",
          "data": {
            "text/plain": [
              "<Figure size 640x480 with 1 Axes>"
            ],
            "image/png": "[encoded data removed]"
          },
          "metadata": {}
        }
      ]
    },
    {
      "cell_type": "markdown",
      "metadata": {
        "id": "UiQjUDF4-hWN"
      },
      "source": [
        "**1. Data Preprocessing of prediction dataset**"
      ]
    },
    {
      "cell_type": "code",
      "metadata": {
        "id": "7ryjAel5-aQG",
        "colab": {
          "base_uri": "https://localhost:8080/",
          "height": 289
        },
        "outputId": "fe5cc677-e5dd-4fcd-fee1-b18d17446d80"
      },
      "source": [
        "#re_df['text'] = re_df['text'].apply(p.clean)\n",
        "#re_df['text'] = re_df['text'].apply(remove_punctuation)\n",
        "#re_df['text'] = re_df['text'].apply(str.lower)\n",
        "re_df['processed_text'] = re_df['text'].apply(preprocessing)\n",
        "re_df.head(5)"
      ],
      "execution_count": null,
      "outputs": [
        {
          "output_type": "execute_result",
          "data": {
            "text/html": [
              "<div>\n",
              "<style scoped>\n",
              "    .dataframe tbody tr th:only-of-type {\n",
              "        vertical-align: middle;\n",
              "    }\n",
              "\n",
              "    .dataframe tbody tr th {\n",
              "        vertical-align: top;\n",
              "    }\n",
              "\n",
              "    .dataframe thead th {\n",
              "        text-align: right;\n",
              "    }\n",
              "</style>\n",
              "<table border=\"1\" class=\"dataframe\">\n",
              "  <thead>\n",
              "    <tr style=\"text-align: right;\">\n",
              "      <th></th>\n",
              "      <th>location</th>\n",
              "      <th>date</th>\n",
              "      <th>country</th>\n",
              "      <th>text</th>\n",
              "      <th>created_at</th>\n",
              "      <th>id</th>\n",
              "      <th>processed_text</th>\n",
              "    </tr>\n",
              "  </thead>\n",
              "  <tbody>\n",
              "    <tr>\n",
              "      <th>0</th>\n",
              "      <td>-1.9643961, 52.505005</td>\n",
              "      <td>'2020-02-12T22:56:31.000Z'</td>\n",
              "      <td>'United Kingdom'</td>\n",
              "      <td>'@AlexeiDankevich @V2019N Apparently thatâs ...</td>\n",
              "      <td>'Wed Feb 12 22:56:31 +0000 2020'</td>\n",
              "      <td>1227728215717928961</td>\n",
              "      <td>' apparently thats to do with them reaching ca...</td>\n",
              "    </tr>\n",
              "    <tr>\n",
              "      <th>1</th>\n",
              "      <td>-0.0736289, 53.567738</td>\n",
              "      <td>'2020-02-12T22:56:25.000Z'</td>\n",
              "      <td>'United Kingdom'</td>\n",
              "      <td>'This should be the official butial of United ...</td>\n",
              "      <td>'Wed Feb 12 22:56:25 +0000 2020'</td>\n",
              "      <td>1227728189134381056</td>\n",
              "      <td>'this should be the official butial of united ...</td>\n",
              "    </tr>\n",
              "    <tr>\n",
              "      <th>2</th>\n",
              "      <td>-4.114052, 56.78611</td>\n",
              "      <td>'2020-02-12T22:56:15.000Z'</td>\n",
              "      <td>'United Kingdom'</td>\n",
              "      <td>'You could NOT MAKE THIS SHIT UP. Did they not...</td>\n",
              "      <td>'Wed Feb 12 22:56:15 +0000 2020'</td>\n",
              "      <td>1227728149221380098</td>\n",
              "      <td>'you could not make this shit up did they not ...</td>\n",
              "    </tr>\n",
              "    <tr>\n",
              "      <th>3</th>\n",
              "      <td>-0.116588406, 51.514427</td>\n",
              "      <td>'2020-02-12T22:56:49.000Z'</td>\n",
              "      <td>'United Kingdom'</td>\n",
              "      <td>'Tesla Autopilot Gracefully Avoids Road Obstru...</td>\n",
              "      <td>'Wed Feb 12 22:56:49 +0000 2020'</td>\n",
              "      <td>1227728293543104512</td>\n",
              "      <td>'tesla autopilot gracefully avoids road obstru...</td>\n",
              "    </tr>\n",
              "    <tr>\n",
              "      <th>4</th>\n",
              "      <td>12.674297, 42.638428</td>\n",
              "      <td>'2020-02-12T22:56:52.000Z'</td>\n",
              "      <td>'Italy'</td>\n",
              "      <td>'Ing.Gironi Will MWC 2020 be canceled over cor...</td>\n",
              "      <td>'Wed Feb 12 22:56:52 +0000 2020'</td>\n",
              "      <td>1227728304976859137</td>\n",
              "      <td>'inggironi will mwc be canceled over coronavir...</td>\n",
              "    </tr>\n",
              "  </tbody>\n",
              "</table>\n",
              "</div>"
            ],
            "text/plain": [
              "                  location                        date           country  \\\n",
              "0    -1.9643961, 52.505005  '2020-02-12T22:56:31.000Z'  'United Kingdom'   \n",
              "1    -0.0736289, 53.567738  '2020-02-12T22:56:25.000Z'  'United Kingdom'   \n",
              "2      -4.114052, 56.78611  '2020-02-12T22:56:15.000Z'  'United Kingdom'   \n",
              "3  -0.116588406, 51.514427  '2020-02-12T22:56:49.000Z'  'United Kingdom'   \n",
              "4     12.674297, 42.638428  '2020-02-12T22:56:52.000Z'           'Italy'   \n",
              "\n",
              "                                                text  \\\n",
              "0  '@AlexeiDankevich @V2019N Apparently thatâs ...   \n",
              "1  'This should be the official butial of United ...   \n",
              "2  'You could NOT MAKE THIS SHIT UP. Did they not...   \n",
              "3  'Tesla Autopilot Gracefully Avoids Road Obstru...   \n",
              "4  'Ing.Gironi Will MWC 2020 be canceled over cor...   \n",
              "\n",
              "                         created_at                   id  \\\n",
              "0  'Wed Feb 12 22:56:31 +0000 2020'  1227728215717928961   \n",
              "1  'Wed Feb 12 22:56:25 +0000 2020'  1227728189134381056   \n",
              "2  'Wed Feb 12 22:56:15 +0000 2020'  1227728149221380098   \n",
              "3  'Wed Feb 12 22:56:49 +0000 2020'  1227728293543104512   \n",
              "4  'Wed Feb 12 22:56:52 +0000 2020'  1227728304976859137   \n",
              "\n",
              "                                      processed_text  \n",
              "0  ' apparently thats to do with them reaching ca...  \n",
              "1  'this should be the official butial of united ...  \n",
              "2  'you could not make this shit up did they not ...  \n",
              "3  'tesla autopilot gracefully avoids road obstru...  \n",
              "4  'inggironi will mwc be canceled over coronavir...  "
            ]
          },
          "metadata": {},
          "execution_count": 138
        }
      ]
    },
    {
      "cell_type": "markdown",
      "metadata": {
        "id": "lLaTrfCwtAYw"
      },
      "source": [
        "**2. Predicted Sentiments using logistic regression model**"
      ]
    },
    {
      "cell_type": "code",
      "metadata": {
        "colab": {
          "base_uri": "https://localhost:8080/",
          "height": 272
        },
        "id": "GpFK-3o6QR13",
        "outputId": "da7bb4f7-dd38-4507-b789-2e6a970b3f07"
      },
      "source": [
        "# predict_lr = lr.predict(re_df['text'])\n",
        "\n",
        "\n",
        "pred_matrix = vectorizer.transform(re_df['text'])\n",
        "\n",
        "pred =  lr.predict(pred_matrix)\n",
        "\n",
        "re_df['sentiment'] = pred\n",
        "re_df['sentiment'] = re_df['sentiment'].map({0: 'Negative', 4:'Positive'})\n",
        "print(\"Counts:\\n\",re_df.sentiment.value_counts())\n",
        "\n",
        "re_df.to_csv (r'/content/gdrive/MyDrive/Colab Notebooks/results_sentiment/kfold_htfidfvectorizer_lr.csv', header=True)\n",
        "\n",
        "#spatial_df = re_df[['location','text','sentiment']]\n",
        "re_df[['location','country','text','sentiment']].head()"
      ],
      "execution_count": null,
      "outputs": [
        {
          "output_type": "stream",
          "name": "stdout",
          "text": [
            "Counts:\n",
            " Negative    99092\n",
            "Positive    66446\n",
            "Name: sentiment, dtype: int64\n"
          ]
        },
        {
          "output_type": "execute_result",
          "data": {
            "text/html": [
              "<div>\n",
              "<style scoped>\n",
              "    .dataframe tbody tr th:only-of-type {\n",
              "        vertical-align: middle;\n",
              "    }\n",
              "\n",
              "    .dataframe tbody tr th {\n",
              "        vertical-align: top;\n",
              "    }\n",
              "\n",
              "    .dataframe thead th {\n",
              "        text-align: right;\n",
              "    }\n",
              "</style>\n",
              "<table border=\"1\" class=\"dataframe\">\n",
              "  <thead>\n",
              "    <tr style=\"text-align: right;\">\n",
              "      <th></th>\n",
              "      <th>location</th>\n",
              "      <th>country</th>\n",
              "      <th>text</th>\n",
              "      <th>sentiment</th>\n",
              "    </tr>\n",
              "  </thead>\n",
              "  <tbody>\n",
              "    <tr>\n",
              "      <th>0</th>\n",
              "      <td>-1.9643961, 52.505005</td>\n",
              "      <td>'United Kingdom'</td>\n",
              "      <td>'@AlexeiDankevich @V2019N Apparently thatâs ...</td>\n",
              "      <td>Negative</td>\n",
              "    </tr>\n",
              "    <tr>\n",
              "      <th>1</th>\n",
              "      <td>-0.0736289, 53.567738</td>\n",
              "      <td>'United Kingdom'</td>\n",
              "      <td>'This should be the official butial of United ...</td>\n",
              "      <td>Positive</td>\n",
              "    </tr>\n",
              "    <tr>\n",
              "      <th>2</th>\n",
              "      <td>-4.114052, 56.78611</td>\n",
              "      <td>'United Kingdom'</td>\n",
              "      <td>'You could NOT MAKE THIS SHIT UP. Did they not...</td>\n",
              "      <td>Negative</td>\n",
              "    </tr>\n",
              "    <tr>\n",
              "      <th>3</th>\n",
              "      <td>-0.116588406, 51.514427</td>\n",
              "      <td>'United Kingdom'</td>\n",
              "      <td>'Tesla Autopilot Gracefully Avoids Road Obstru...</td>\n",
              "      <td>Positive</td>\n",
              "    </tr>\n",
              "    <tr>\n",
              "      <th>4</th>\n",
              "      <td>12.674297, 42.638428</td>\n",
              "      <td>'Italy'</td>\n",
              "      <td>'Ing.Gironi Will MWC 2020 be canceled over cor...</td>\n",
              "      <td>Negative</td>\n",
              "    </tr>\n",
              "  </tbody>\n",
              "</table>\n",
              "</div>"
            ],
            "text/plain": [
              "                  location           country  \\\n",
              "0    -1.9643961, 52.505005  'United Kingdom'   \n",
              "1    -0.0736289, 53.567738  'United Kingdom'   \n",
              "2      -4.114052, 56.78611  'United Kingdom'   \n",
              "3  -0.116588406, 51.514427  'United Kingdom'   \n",
              "4     12.674297, 42.638428           'Italy'   \n",
              "\n",
              "                                                text sentiment  \n",
              "0  '@AlexeiDankevich @V2019N Apparently thatâs ...  Negative  \n",
              "1  'This should be the official butial of United ...  Positive  \n",
              "2  'You could NOT MAKE THIS SHIT UP. Did they not...  Negative  \n",
              "3  'Tesla Autopilot Gracefully Avoids Road Obstru...  Positive  \n",
              "4  'Ing.Gironi Will MWC 2020 be canceled over cor...  Negative  "
            ]
          },
          "metadata": {},
          "execution_count": 62
        }
      ]
    },
    {
      "cell_type": "markdown",
      "metadata": {
        "id": "tImO-2InI5Cn"
      },
      "source": [
        "**2. Predicted Sentiments using Linear support vector machine model**"
      ]
    },
    {
      "cell_type": "code",
      "metadata": {
        "colab": {
          "base_uri": "https://localhost:8080/",
          "height": 272
        },
        "id": "d2vZWESMIuXY",
        "outputId": "bdf6a326-ee49-45c6-87b2-3bcb973d09fe"
      },
      "source": [
        "# predict_lr = lr.predict(re_df['text'])\n",
        "\n",
        "\n",
        "pred_matrix = vectorizer.transform(re_df['text'])\n",
        "\n",
        "pred =  clf.predict(pred_matrix)\n",
        "\n",
        "re_df['sentiment'] = pred\n",
        "re_df['sentiment'] = re_df['sentiment'].map({0: 'Negative', 4:'Positive'})\n",
        "print(\"Counts:\\n\",re_df.sentiment.value_counts())\n",
        "\n",
        "\n",
        "\n",
        "re_df.to_csv (r'/content/gdrive/MyDrive/Colab Notebooks/results_sentiment/kfold_htfidfvectorizer_svc.csv', header=True)\n",
        "\n",
        "#spatial_df = re_df[['location','text','sentiment']]\n",
        "re_df[['location','country','text','sentiment']].head()"
      ],
      "execution_count": null,
      "outputs": [
        {
          "output_type": "stream",
          "name": "stdout",
          "text": [
            "Counts:\n",
            " Negative    99630\n",
            "Positive    65908\n",
            "Name: sentiment, dtype: int64\n"
          ]
        },
        {
          "output_type": "execute_result",
          "data": {
            "text/html": [
              "<div>\n",
              "<style scoped>\n",
              "    .dataframe tbody tr th:only-of-type {\n",
              "        vertical-align: middle;\n",
              "    }\n",
              "\n",
              "    .dataframe tbody tr th {\n",
              "        vertical-align: top;\n",
              "    }\n",
              "\n",
              "    .dataframe thead th {\n",
              "        text-align: right;\n",
              "    }\n",
              "</style>\n",
              "<table border=\"1\" class=\"dataframe\">\n",
              "  <thead>\n",
              "    <tr style=\"text-align: right;\">\n",
              "      <th></th>\n",
              "      <th>location</th>\n",
              "      <th>country</th>\n",
              "      <th>text</th>\n",
              "      <th>sentiment</th>\n",
              "    </tr>\n",
              "  </thead>\n",
              "  <tbody>\n",
              "    <tr>\n",
              "      <th>0</th>\n",
              "      <td>-1.9643961, 52.505005</td>\n",
              "      <td>'United Kingdom'</td>\n",
              "      <td>'@AlexeiDankevich @V2019N Apparently thatâs ...</td>\n",
              "      <td>Negative</td>\n",
              "    </tr>\n",
              "    <tr>\n",
              "      <th>1</th>\n",
              "      <td>-0.0736289, 53.567738</td>\n",
              "      <td>'United Kingdom'</td>\n",
              "      <td>'This should be the official butial of United ...</td>\n",
              "      <td>Positive</td>\n",
              "    </tr>\n",
              "    <tr>\n",
              "      <th>2</th>\n",
              "      <td>-4.114052, 56.78611</td>\n",
              "      <td>'United Kingdom'</td>\n",
              "      <td>'You could NOT MAKE THIS SHIT UP. Did they not...</td>\n",
              "      <td>Negative</td>\n",
              "    </tr>\n",
              "    <tr>\n",
              "      <th>3</th>\n",
              "      <td>-0.116588406, 51.514427</td>\n",
              "      <td>'United Kingdom'</td>\n",
              "      <td>'Tesla Autopilot Gracefully Avoids Road Obstru...</td>\n",
              "      <td>Negative</td>\n",
              "    </tr>\n",
              "    <tr>\n",
              "      <th>4</th>\n",
              "      <td>12.674297, 42.638428</td>\n",
              "      <td>'Italy'</td>\n",
              "      <td>'Ing.Gironi Will MWC 2020 be canceled over cor...</td>\n",
              "      <td>Negative</td>\n",
              "    </tr>\n",
              "  </tbody>\n",
              "</table>\n",
              "</div>"
            ],
            "text/plain": [
              "                  location           country  \\\n",
              "0    -1.9643961, 52.505005  'United Kingdom'   \n",
              "1    -0.0736289, 53.567738  'United Kingdom'   \n",
              "2      -4.114052, 56.78611  'United Kingdom'   \n",
              "3  -0.116588406, 51.514427  'United Kingdom'   \n",
              "4     12.674297, 42.638428           'Italy'   \n",
              "\n",
              "                                                text sentiment  \n",
              "0  '@AlexeiDankevich @V2019N Apparently thatâs ...  Negative  \n",
              "1  'This should be the official butial of United ...  Positive  \n",
              "2  'You could NOT MAKE THIS SHIT UP. Did they not...  Negative  \n",
              "3  'Tesla Autopilot Gracefully Avoids Road Obstru...  Negative  \n",
              "4  'Ing.Gironi Will MWC 2020 be canceled over cor...  Negative  "
            ]
          },
          "metadata": {},
          "execution_count": 139
        }
      ]
    },
    {
      "cell_type": "markdown",
      "metadata": {
        "id": "1vzrW5GGUqJM"
      },
      "source": [
        "**3. Plot overall sentiment classification**"
      ]
    },
    {
      "cell_type": "code",
      "metadata": {
        "colab": {
          "base_uri": "https://localhost:8080/",
          "height": 349
        },
        "id": "Thk90QEZUidV",
        "outputId": "615cc51c-a41a-446f-9887-509745709ba7"
      },
      "source": [
        "sns.countplot(re_df.sentiment, ).set_title(\"Overall Sentiment Classification\")\n",
        "plt.xlabel('Sentiment')\n",
        "plt.ylabel('number of tweets')\n",
        "plt.show()"
      ],
      "execution_count": null,
      "outputs": [
        {
          "output_type": "stream",
          "name": "stderr",
          "text": [
            "/usr/local/lib/python3.7/dist-packages/seaborn/_decorators.py:43: FutureWarning: Pass the following variable as a keyword arg: x. From version 0.12, the only valid positional argument will be `data`, and passing other arguments without an explicit keyword will result in an error or misinterpretation.\n",
            "  FutureWarning\n"
          ]
        },
        {
          "output_type": "display_data",
          "data": {
            "image/png": "[encoded data removed]",
            "text/plain": [
              "<Figure size 432x288 with 1 Axes>"
            ]
          },
          "metadata": {
            "needs_background": "light"
          }
        }
      ]
    },
    {
      "cell_type": "markdown",
      "metadata": {
        "id": "-BgkRQmKsy5Y"
      },
      "source": [
        "**3.1 Plot Sentiment classification of France**"
      ]
    },
    {
      "cell_type": "code",
      "metadata": {
        "colab": {
          "base_uri": "https://localhost:8080/",
          "height": 366
        },
        "id": "yCvv-B8ssswC",
        "outputId": "df242d9e-512b-49a6-c0d8-154f5fd6024e"
      },
      "source": [
        "\n",
        "country_name = 'France'\n",
        "#print(re_df.country.unique())\n",
        "country_df = re_df.loc[(re_df['country'] == \"'\"+country_name+\"'\") ]\n",
        "print(country_df.shape)\n",
        "sns.countplot(country_df.sentiment, ).set_title(country_name+ \" Sentiment Classification\")\n",
        "plt.xlabel('Sentiment')\n",
        "plt.ylabel('number of tweets')\n",
        "plt.show()"
      ],
      "execution_count": null,
      "outputs": [
        {
          "output_type": "stream",
          "name": "stdout",
          "text": [
            "(19071, 8)\n"
          ]
        },
        {
          "output_type": "stream",
          "name": "stderr",
          "text": [
            "/usr/local/lib/python3.7/dist-packages/seaborn/_decorators.py:43: FutureWarning: Pass the following variable as a keyword arg: x. From version 0.12, the only valid positional argument will be `data`, and passing other arguments without an explicit keyword will result in an error or misinterpretation.\n",
            "  FutureWarning\n"
          ]
        },
        {
          "output_type": "display_data",
          "data": {
            "image/png": "[encoded data removed]",
            "text/plain": [
              "<Figure size 432x288 with 1 Axes>"
            ]
          },
          "metadata": {
            "needs_background": "light"
          }
        }
      ]
    },
    {
      "cell_type": "markdown",
      "metadata": {
        "id": "CcBq_iMfFSDP"
      },
      "source": [
        "**4. Plot Sentiment classification of Italy**"
      ]
    },
    {
      "cell_type": "code",
      "metadata": {
        "colab": {
          "base_uri": "https://localhost:8080/",
          "height": 366
        },
        "id": "cgh8VIrJEqUC",
        "outputId": "e184a245-3d60-4a83-8e7f-c2c782dee424"
      },
      "source": [
        "\n",
        "country_name = 'Italy'\n",
        "country_name1 = 'Italia'\n",
        "#print(re_df.country.unique())\n",
        "country_df = re_df.loc[(re_df['country'] == \"'\"+country_name+\"'\") |  (re_df['country'] == \"'\"+country_name1+\"'\")]\n",
        "print(country_df.shape)\n",
        "sns.countplot(country_df.sentiment, ).set_title(country_name+ \" Sentiment Classification\")\n",
        "plt.xlabel('Sentiment')\n",
        "plt.ylabel('number of tweets')\n",
        "plt.show()"
      ],
      "execution_count": null,
      "outputs": [
        {
          "output_type": "stream",
          "name": "stdout",
          "text": [
            "(8662, 8)\n"
          ]
        },
        {
          "output_type": "stream",
          "name": "stderr",
          "text": [
            "/usr/local/lib/python3.7/dist-packages/seaborn/_decorators.py:43: FutureWarning: Pass the following variable as a keyword arg: x. From version 0.12, the only valid positional argument will be `data`, and passing other arguments without an explicit keyword will result in an error or misinterpretation.\n",
            "  FutureWarning\n"
          ]
        },
        {
          "output_type": "display_data",
          "data": {
            "image/png": "[encoded data removed]",
            "text/plain": [
              "<Figure size 432x288 with 1 Axes>"
            ]
          },
          "metadata": {
            "needs_background": "light"
          }
        }
      ]
    },
    {
      "cell_type": "markdown",
      "metadata": {
        "id": "HC6l-QNmFjje"
      },
      "source": [
        "**5. Plot Sentiment classification of United Kingdom**"
      ]
    },
    {
      "cell_type": "code",
      "metadata": {
        "colab": {
          "base_uri": "https://localhost:8080/",
          "height": 366
        },
        "id": "O67QLX5wFdwA",
        "outputId": "f2e063c2-74ab-452f-cc9b-a3788021d304"
      },
      "source": [
        "country_name = 'United Kingdom'\n",
        "#print(re_df.country.unique())\n",
        "country_df = re_df.loc[(re_df['country'] == \"'\"+country_name+\"'\") ]\n",
        "print(country_df.shape)\n",
        "sns.countplot(country_df.sentiment, ).set_title(country_name+ \" Sentiment Classification\")\n",
        "plt.xlabel('Sentiment')\n",
        "plt.ylabel('number of tweets')\n",
        "plt.show()"
      ],
      "execution_count": null,
      "outputs": [
        {
          "output_type": "stream",
          "name": "stdout",
          "text": [
            "(137805, 8)\n"
          ]
        },
        {
          "output_type": "stream",
          "name": "stderr",
          "text": [
            "/usr/local/lib/python3.7/dist-packages/seaborn/_decorators.py:43: FutureWarning: Pass the following variable as a keyword arg: x. From version 0.12, the only valid positional argument will be `data`, and passing other arguments without an explicit keyword will result in an error or misinterpretation.\n",
            "  FutureWarning\n"
          ]
        },
        {
          "output_type": "display_data",
          "data": {
            "image/png": "[encoded data removed]",
            "text/plain": [
              "<Figure size 432x288 with 1 Axes>"
            ]
          },
          "metadata": {
            "needs_background": "light"
          }
        }
      ]
    }
  ]
}